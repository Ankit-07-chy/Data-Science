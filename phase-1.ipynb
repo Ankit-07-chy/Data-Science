{
 "cells": [
  {
   "cell_type": "markdown",
   "id": "6d636520",
   "metadata": {},
   "source": [
    "# Numpy"
   ]
  },
  {
   "cell_type": "code",
   "execution_count": 56,
   "id": "0e97e6d6",
   "metadata": {},
   "outputs": [],
   "source": [
    "import numpy as np "
   ]
  },
  {
   "cell_type": "code",
   "execution_count": 57,
   "id": "b8912ace",
   "metadata": {},
   "outputs": [
    {
     "name": "stdout",
     "output_type": "stream",
     "text": [
      "1D array: [1 2 3]\n",
      "2D array: [[1 2 6 7]\n",
      " [1 2 3 4]]\n"
     ]
    }
   ],
   "source": [
    "arr_1d = np.array([1,2,3])\n",
    "print(\"1D array:\",arr_1d)\n",
    "\n",
    "arr_2d = np.array([[1,2,6,7],[1,2,3,4]])\n",
    "print(\"2D array:\",arr_2d)"
   ]
  },
  {
   "cell_type": "markdown",
   "id": "f567adbc",
   "metadata": {},
   "source": [
    "## List vs Numpy array"
   ]
  },
  {
   "cell_type": "code",
   "execution_count": null,
   "id": "63fb1460",
   "metadata": {},
   "outputs": [
    {
     "name": "stdout",
     "output_type": "stream",
     "text": [
      "Python list multiplication: [1, 2, 3, 1, 2, 3]\n",
      "Python array multiplicaton: [2 4 6]\n"
     ]
    }
   ],
   "source": [
    "py_list = [1,2,3]\n",
    "print(\"Python list multiplication:\",py_list*2)\n",
    "\n",
    "np_array = np.array([1,2,3])\n",
    "print(\"Python array multiplicaton:\",np_array*2) #element wise multiplication\n",
    " "
   ]
  },
  {
   "cell_type": "code",
   "execution_count": 59,
   "id": "80912e0b",
   "metadata": {},
   "outputs": [
    {
     "name": "stdout",
     "output_type": "stream",
     "text": [
      "\n",
      " List operatin time:  0.05955171585083008\n",
      "\n",
      "Numpy operation time:  0.004376649856567383\n"
     ]
    }
   ],
   "source": [
    "import time\n",
    "start = time.time()\n",
    "py_list= [2,3,4]\n",
    "py_list = [i*2 for i in range(1000000)]\n",
    "print(\"\\n List operatin time: \",time.time()-start)\n",
    "\n",
    "start = time.time()\n",
    "#np_array = np.array([2,3,4])\n",
    "np_array = np.arange(1000000)*2\n",
    "print(\"\\nNumpy operation time: \",time.time()-start)\n"
   ]
  },
  {
   "cell_type": "markdown",
   "id": "fea911b5",
   "metadata": {},
   "source": [
    "## creating array from scratch"
   ]
  },
  {
   "cell_type": "code",
   "execution_count": 60,
   "id": "2f9a2173",
   "metadata": {},
   "outputs": [
    {
     "name": "stdout",
     "output_type": "stream",
     "text": [
      "Zeors array:\n",
      " [[0. 0. 0. 0.]\n",
      " [0. 0. 0. 0.]\n",
      " [0. 0. 0. 0.]]\n",
      "Ones array: \n",
      " [[1. 1. 1. 1.]\n",
      " [1. 1. 1. 1.]\n",
      " [1. 1. 1. 1.]]\n",
      "Full array with value 7: \n",
      " [[7 7]\n",
      " [7 7]]\n",
      "Random array: \n",
      " [[0.88755636 0.60442354 0.74723842 0.1001085 ]\n",
      " [0.71873525 0.41255165 0.91314051 0.75635682]]\n",
      "Sequence array:  [0 2 4 6 8]\n"
     ]
    }
   ],
   "source": [
    "zeros = np.zeros((3,4))\n",
    "print(\"Zeors array:\\n\",zeros)\n",
    "\n",
    "ones = np.ones((3,4))\n",
    "print(\"Ones array: \\n\",ones)\n",
    "\n",
    "full = np.full((2,2),7)\n",
    "print(\"Full array with value 7: \\n\",full)\n",
    "\n",
    "random = np.random.random((2,4))\n",
    "print(\"Random array: \\n\",random)\n",
    "\n",
    "sequence = np.arange(0,10,2)\n",
    "print(\"Sequence array: \",sequence)"
   ]
  },
  {
   "cell_type": "markdown",
   "id": "729b31f9",
   "metadata": {},
   "source": [
    "### Vector , Matrix and Tensor"
   ]
  },
  {
   "cell_type": "code",
   "execution_count": 61,
   "id": "bcd379c1",
   "metadata": {},
   "outputs": [
    {
     "name": "stdout",
     "output_type": "stream",
     "text": [
      "Vector: \n",
      " [1 2 3]\n",
      "Matrix: \n",
      " [[1 2]\n",
      " [3 4]]\n",
      "Tensor: \n",
      " [[[1 2]\n",
      "  [3 4]]\n",
      "\n",
      " [[5 6]\n",
      "  [7 8]]]\n"
     ]
    }
   ],
   "source": [
    "vector = np.array([1,2,3])\n",
    "print(\"Vector: \\n\",vector)\n",
    "\n",
    "matrix = np.array([[1,2],[3,4]])\n",
    "print(\"Matrix: \\n\",matrix)\n",
    "\n",
    "#tensor means more dimension\n",
    "tensor = np.array([[[1,2],[3,4]],\n",
    "[[5,6],[7,8]]])\n",
    "print(\"Tensor: \\n\",tensor)"
   ]
  },
  {
   "cell_type": "markdown",
   "id": "f1d688fb",
   "metadata": {},
   "source": [
    "Array properties"
   ]
  },
  {
   "cell_type": "code",
   "execution_count": 62,
   "id": "f25600a0",
   "metadata": {},
   "outputs": [
    {
     "name": "stdout",
     "output_type": "stream",
     "text": [
      "Shape : (2, 3)\n",
      "Dimenson:  2\n",
      "Size:  6\n",
      "DataType:  int64\n"
     ]
    }
   ],
   "source": [
    "arr = np.array([[1,2,3],[4,5,3]])\n",
    "#shape give (row,column)\n",
    "print(\"Shape :\",arr.shape)\n",
    "\n",
    "print(\"Dimenson: \",arr.ndim)\n",
    "\n",
    "print(\"Size: \",arr.size)\n",
    "print(\"DataType: \",arr.dtype)"
   ]
  },
  {
   "cell_type": "markdown",
   "id": "136c5ff4",
   "metadata": {},
   "source": [
    "Array Reshaping"
   ]
  },
  {
   "cell_type": "code",
   "execution_count": 63,
   "id": "e734ecda",
   "metadata": {},
   "outputs": [
    {
     "name": "stdout",
     "output_type": "stream",
     "text": [
      "Original array: [0 1 2 3 4 5 6 7]\n",
      "Reshaped array: \n",
      " [[0 1 2 3]\n",
      " [4 5 6 7]]\n",
      "Flatend array : \n",
      " [0 1 2 3 4 5 6 7]\n",
      "Ravel array:\n",
      " [0 1 2 3 4 5 6 7]\n",
      "Transposed array: \n",
      " [[0 4]\n",
      " [1 5]\n",
      " [2 6]\n",
      " [3 7]]\n",
      "Transpose Ravel: \n",
      " [0 4 1 5 2 6 3 7]\n"
     ]
    }
   ],
   "source": [
    "arr = np.arange(8)\n",
    "print(\"Original array:\",arr)\n",
    "\n",
    "#reshape\n",
    "reshaped = arr.reshape((2,4))\n",
    "print(\"Reshaped array: \\n\",reshaped)\n",
    "\n",
    "flatend = reshaped.flatten()\n",
    "print(\"Flatend array : \\n\",flatend)\n",
    "\n",
    "\n",
    "#ravel (return view , instead of copy)\n",
    "reveled = reshaped.ravel()\n",
    "print(\"Ravel array:\\n\",reveled)\n",
    "\n",
    "#transpose \n",
    "transpose = reshaped.T\n",
    "print(\"Transposed array: \\n\",transpose)\n",
    "\n",
    "reveled = transpose.ravel()\n",
    "print(\"Transpose Ravel: \\n\",reveled)"
   ]
  },
  {
   "cell_type": "markdown",
   "id": "88fe6d9f",
   "metadata": {},
   "source": [
    "# Phase 2 for Numpy"
   ]
  },
  {
   "cell_type": "markdown",
   "id": "a578a764",
   "metadata": {},
   "source": [
    "## Numpy array operation"
   ]
  },
  {
   "cell_type": "code",
   "execution_count": 64,
   "id": "ff68e00e",
   "metadata": {},
   "outputs": [],
   "source": [
    "import numpy as np"
   ]
  },
  {
   "cell_type": "code",
   "execution_count": 65,
   "id": "9bd4a18d",
   "metadata": {},
   "outputs": [
    {
     "name": "stdout",
     "output_type": "stream",
     "text": [
      "Basic slicing  [3 4 5 6 7]\n",
      "Slicing using step  [2 6]\n",
      "negative indexing:  6\n"
     ]
    }
   ],
   "source": [
    "arr = np.array([1,2,3,4,5,6,7,8])\n",
    "print(\"Basic slicing \",arr[2:7])\n",
    "print(\"Slicing using step \",arr[1:8:4])\n",
    "print(\"negative indexing: \",arr[-3])"
   ]
  },
  {
   "cell_type": "code",
   "execution_count": 66,
   "id": "7f0de8c5",
   "metadata": {},
   "outputs": [
    {
     "name": "stdout",
     "output_type": "stream",
     "text": [
      "Specific element:  8\n",
      "Entire row:  [1 5 6]\n",
      "Entire column:  [3 6 8]\n",
      "2nd Column: [12  5  7]\n",
      "Sorted 2nd column:  [ 5  7 12]\n"
     ]
    }
   ],
   "source": [
    "arr_2d = np.array([[1,12,3],[1,5,6],[4,7,8]])\n",
    "print(\"Specific element: \",arr_2d[2][2])\n",
    "print(\"Entire row: \",arr_2d[1])\n",
    "print(\"Entire column: \",arr_2d[:,2])\n",
    "\n",
    "array = arr_2d[:,1]\n",
    "print(\"2nd Column:\",array)\n",
    "\n",
    "print(\"Sorted 2nd column: \", np.sort(array))\n"
   ]
  },
  {
   "cell_type": "markdown",
   "id": "72e7d9cb",
   "metadata": {},
   "source": [
    "## sorting "
   ]
  },
  {
   "cell_type": "code",
   "execution_count": 67,
   "id": "51914e09",
   "metadata": {},
   "outputs": [
    {
     "name": "stdout",
     "output_type": "stream",
     "text": [
      "Sorted array:  [1 2 3 4 5 6 8]\n",
      "Sorted 2d array by column:  [[   3    1]\n",
      " [   4    6]\n",
      " [2000   99]]\n",
      "Sorted 2d array by row:  [[   1    3]\n",
      " [  99 2000]\n",
      " [   4    6]]\n"
     ]
    }
   ],
   "source": [
    "unsorted = np.array([3,1,4,2,6,5,8])\n",
    "print(\"Sorted array: \",np.sort(unsorted))\n",
    "\n",
    "arr_2d_unsorted = np.array([[3,1],[2000,99],[4,6]])\n",
    "print(\"Sorted 2d array by column: \",np.sort(arr_2d_unsorted, axis = 0))\n",
    "print(\"Sorted 2d array by row: \",np.sort(arr_2d_unsorted,axis=1))"
   ]
  },
  {
   "cell_type": "markdown",
   "id": "af0bd348",
   "metadata": {},
   "source": [
    "## filter"
   ]
  },
  {
   "cell_type": "code",
   "execution_count": 68,
   "id": "1a4b2ce6",
   "metadata": {},
   "outputs": [
    {
     "name": "stdout",
     "output_type": "stream",
     "text": [
      "Even numbers: [2 4 6 8]\n"
     ]
    }
   ],
   "source": [
    "numbers = np.array([1,2,3,4,5,6,7,8,9])\n",
    "even_number = numbers[numbers%2==0]\n",
    "print(\"Even numbers:\",even_number)\n",
    "\n"
   ]
  },
  {
   "cell_type": "markdown",
   "id": "1482c4d8",
   "metadata": {},
   "source": [
    "## Filter with mask"
   ]
  },
  {
   "cell_type": "code",
   "execution_count": 69,
   "id": "deb86bd1",
   "metadata": {},
   "outputs": [
    {
     "name": "stdout",
     "output_type": "stream",
     "text": [
      "Numbers greater than 5:  [6 7 8 9]\n"
     ]
    }
   ],
   "source": [
    "mask = numbers > 5\n",
    "print(\"Numbers greater than 5: \",numbers[mask])"
   ]
  },
  {
   "cell_type": "markdown",
   "id": "e53636d3",
   "metadata": {},
   "source": [
    "## Fancy indexing vs np.where"
   ]
  },
  {
   "cell_type": "code",
   "execution_count": 70,
   "id": "8377cbf1",
   "metadata": {},
   "outputs": [
    {
     "name": "stdout",
     "output_type": "stream",
     "text": [
      "Numbers with idices given:\n",
      "  [1 3 5]\n",
      "(array([7, 8]),)\n",
      "Np Where:  [8 9]\n"
     ]
    }
   ],
   "source": [
    "indices = [0,2,4]\n",
    "print(\"Numbers with idices given:\\n \",numbers[indices])\n",
    "\n",
    "where_result = np.where(numbers>7)\n",
    "print(where_result)\n",
    "print(\"Np Where: \",numbers[where_result])"
   ]
  },
  {
   "cell_type": "code",
   "execution_count": 71,
   "id": "848fee48",
   "metadata": {},
   "outputs": [
    {
     "name": "stdout",
     "output_type": "stream",
     "text": [
      "['False0' 'False0' 'False0' 'False0' 'False0' 'True1' 'True1' 'True1'\n",
      " 'True1']\n",
      "(array([4, 5, 6, 7, 8]),)\n"
     ]
    }
   ],
   "source": [
    "condition_array = np.where(numbers>5,\"True1\", \"False0\")\n",
    "print(condition_array)\n",
    "\n",
    "\n",
    "condition_array = np.where(numbers>4)\n",
    "print(condition_array)"
   ]
  },
  {
   "cell_type": "markdown",
   "id": "35867699",
   "metadata": {},
   "source": [
    "## Adding and removing data"
   ]
  },
  {
   "cell_type": "code",
   "execution_count": 72,
   "id": "80a71d6e",
   "metadata": {},
   "outputs": [
    {
     "name": "stdout",
     "output_type": "stream",
     "text": [
      "[ 3 28 10 10  8]\n",
      "[ 1 23  4  3  4  2  5  6  7  4]\n"
     ]
    }
   ],
   "source": [
    "arr1 = np.array([1,23,4,3,4])\n",
    "arr2 = np.array([2,5,6,7,4])\n",
    "\n",
    "arr3 = arr1 + arr2\n",
    "print(arr3)\n",
    "\n",
    "combinedArray = np.concatenate((arr1,arr2))\n",
    "print(combinedArray)"
   ]
  },
  {
   "cell_type": "markdown",
   "id": "4e0fd7ab",
   "metadata": {},
   "source": [
    "### Array compatibility"
   ]
  },
  {
   "cell_type": "code",
   "execution_count": 73,
   "id": "38dc3676",
   "metadata": {},
   "outputs": [
    {
     "name": "stdout",
     "output_type": "stream",
     "text": [
      "Compatibility of a nd b :  True\n",
      "Compatibility of c nd b :  False\n"
     ]
    }
   ],
   "source": [
    "a = np.array([2,3,4,2])\n",
    "b = np.array([3,4,2,3])\n",
    "c = np.array([[2,3,2,1],[4,53,2,5]])\n",
    "\n",
    "print(\"Compatibility of a nd b : \",a.shape == b.shape)\n",
    "print(\"Compatibility of c nd b : \",c.shape == b.shape)"
   ]
  },
  {
   "cell_type": "code",
   "execution_count": 74,
   "id": "32397af3",
   "metadata": {},
   "outputs": [
    {
     "name": "stdout",
     "output_type": "stream",
     "text": [
      "[[1 2]\n",
      " [3 4]]\n",
      "[[1 2]\n",
      " [3 4]\n",
      " [5 6]]\n",
      "\n",
      "\n",
      "with new column:\n",
      " [[1 2 4]\n",
      " [3 4 5]]\n",
      "delete array element: [1 2 4 5]\n"
     ]
    }
   ],
   "source": [
    "original = np.array([[1,2],[3,4]])\n",
    "new_row = np.array([5,6])\n",
    "\n",
    "with_new_row = np.vstack((original,new_row))\n",
    "print(original)\n",
    "print(with_new_row)\n",
    "\n",
    "new_column = np.array([[4],[5]])\n",
    "with_new_column = np.hstack((original,new_column))\n",
    "print(\"\\n\\nwith new column:\\n\",with_new_column)\n",
    "\n",
    "arr = np.array([1,2,3,4,5])\n",
    "deleted = np.delete(arr,2) #return array not deleted element\n",
    "print(\"delete array element:\",deleted)"
   ]
  },
  {
   "cell_type": "code",
   "execution_count": null,
   "id": "aeb50d92",
   "metadata": {},
   "outputs": [],
   "source": []
  }
 ],
 "metadata": {
  "kernelspec": {
   "display_name": "venv",
   "language": "python",
   "name": "venv"
  },
  "language_info": {
   "codemirror_mode": {
    "name": "ipython",
    "version": 3
   },
   "file_extension": ".py",
   "mimetype": "text/x-python",
   "name": "python",
   "nbconvert_exporter": "python",
   "pygments_lexer": "ipython3",
   "version": "3.13.3"
  }
 },
 "nbformat": 4,
 "nbformat_minor": 5
}
