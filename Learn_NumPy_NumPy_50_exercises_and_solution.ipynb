{
  "metadata": {
    "kernelspec": {
      "language": "python",
      "display_name": "Python 3",
      "name": "python3"
    },
    "language_info": {
      "pygments_lexer": "ipython3",
      "nbconvert_exporter": "python",
      "version": "3.6.4",
      "file_extension": ".py",
      "codemirror_mode": {
        "name": "ipython",
        "version": 3
      },
      "name": "python",
      "mimetype": "text/x-python"
    },
    "kaggle": {
      "accelerator": "none",
      "dataSources": [
        {
          "sourceId": 420,
          "sourceType": "datasetVersion",
          "datasetId": 19
        },
        {
          "sourceId": 482,
          "sourceType": "datasetVersion",
          "datasetId": 228
        },
        {
          "sourceId": 974,
          "sourceType": "datasetVersion",
          "datasetId": 478
        },
        {
          "sourceId": 8204,
          "sourceType": "datasetVersion",
          "datasetId": 4458
        },
        {
          "sourceId": 43520,
          "sourceType": "datasetVersion",
          "datasetId": 33180
        }
      ],
      "dockerImageVersionId": 29994,
      "isInternetEnabled": true,
      "language": "python",
      "sourceType": "notebook",
      "isGpuEnabled": false
    },
    "colab": {
      "name": "Learn NumPy : NumPy 50 exercises and solution",
      "provenance": [],
      "include_colab_link": true
    }
  },
  "nbformat_minor": 0,
  "nbformat": 4,
  "cells": [
    {
      "cell_type": "markdown",
      "metadata": {
        "id": "view-in-github",
        "colab_type": "text"
      },
      "source": [
        "<a href=\"https://colab.research.google.com/github/Ankit-07-chy/Data-Science/blob/main/Learn_NumPy_NumPy_50_exercises_and_solution.ipynb\" target=\"_parent\"><img src=\"https://colab.research.google.com/assets/colab-badge.svg\" alt=\"Open In Colab\"/></a>"
      ]
    },
    {
      "source": [
        "# IMPORTANT: RUN THIS CELL IN ORDER TO IMPORT YOUR KAGGLE DATA SOURCES,\n",
        "# THEN FEEL FREE TO DELETE THIS CELL.\n",
        "# NOTE: THIS NOTEBOOK ENVIRONMENT DIFFERS FROM KAGGLE'S PYTHON\n",
        "# ENVIRONMENT SO THERE MAY BE MISSING LIBRARIES USED BY YOUR\n",
        "# NOTEBOOK.\n",
        "import kagglehub\n",
        "uciml_iris_path = kagglehub.dataset_download('uciml/iris')\n",
        "uciml_pima_indians_diabetes_database_path = kagglehub.dataset_download('uciml/pima-indians-diabetes-database')\n",
        "uciml_mushroom_classification_path = kagglehub.dataset_download('uciml/mushroom-classification')\n",
        "uciml_red_wine_quality_cortez_et_al_2009_path = kagglehub.dataset_download('uciml/red-wine-quality-cortez-et-al-2009')\n",
        "\n",
        "print('Data source import complete.')\n"
      ],
      "metadata": {
        "id": "sUf9HHBWbr2s",
        "outputId": "4b241739-6ef5-448e-b366-d70c54574b48",
        "colab": {
          "base_uri": "https://localhost:8080/"
        }
      },
      "cell_type": "code",
      "outputs": [
        {
          "output_type": "stream",
          "name": "stdout",
          "text": [
            "Downloading from https://www.kaggle.com/api/v1/datasets/download/uciml/mushroom-classification?dataset_version_number=1...\n"
          ]
        },
        {
          "output_type": "stream",
          "name": "stderr",
          "text": [
            "100%|██████████| 34.2k/34.2k [00:00<00:00, 33.1MB/s]"
          ]
        },
        {
          "output_type": "stream",
          "name": "stdout",
          "text": [
            "Extracting files...\n"
          ]
        },
        {
          "output_type": "stream",
          "name": "stderr",
          "text": [
            "\n"
          ]
        },
        {
          "output_type": "stream",
          "name": "stdout",
          "text": [
            "Data source import complete.\n"
          ]
        }
      ],
      "execution_count": 1
    },
    {
      "cell_type": "markdown",
      "source": [
        "# NumPy Exercises"
      ],
      "metadata": {
        "id": "WbXhGuiLbr2x"
      }
    },
    {
      "cell_type": "markdown",
      "source": [
        "This kernel uses exercises of NumPy from the Machine Learning Plus webpage --> https://www.machinelearningplus.com/python/101-numpy-exercises-python/"
      ],
      "metadata": {
        "id": "d--BiCmjbr2y"
      }
    },
    {
      "cell_type": "markdown",
      "source": [
        "This kernel is part of my 100 days of machine learning challenge.\n",
        "Check out my progress on this challenge --> https://github.com/themlphdstudent/100DaysofMachineLearning"
      ],
      "metadata": {
        "id": "nSqIQMokbr2z"
      }
    },
    {
      "cell_type": "markdown",
      "source": [
        "## <font color='red'> <center> I am continuously updating this kernel. </center> </font>\n",
        "\n",
        "## <font color='red'> <center> Don't forget to upvote. </center> </font>"
      ],
      "metadata": {
        "id": "IWfV5d_fbr2z"
      }
    },
    {
      "cell_type": "markdown",
      "source": [
        "<a id=\"top\"></a>\n",
        "# Table of Content\n",
        "- [Import required libraries](import_required_libraries)\n",
        "- [*Exercise 1*. Import numpy as np and see the version](#1)\n",
        "- [*Exercise 2*. How to create a 1D array?](#2)\n",
        "- [*Exercise 3*. How to create a boolean array?](#3)\n",
        "- [*Exercise 4*. How to extract items that satisfy a given condition from 1D array?](#4)\n",
        "- [*Exercise 5*. How to replace items that satisfy a condition with another value in numpy array?](#5)\n",
        "- [*Exercise 6*. How to replace items that satisfy a condition without affecting the original array?](#6)\n",
        "- [*Exercise 7*. How to reshape an array?](#7)\n",
        "- [*Exercise 8*. How to stack two arrays vertically?](#8)\n",
        "- [*Exercise 9*. How to stack two arrays horizontally?](#9)\n",
        "- [*Exercise 10*. How to generate custom sequences in numpy without hardcoding?](#10)\n",
        "- [*Exercise 11*. How to get the common items between two python numpy arrays?](#11)\n",
        "- [*Exercise 12*. How to remove from one array those items that exist in another?](#12)\n",
        "- [*Exercise 13*. How to get the positions where elements of two arrays match?](#13)\n",
        "- [*Exercise 14*. How to extract all numbers between a given range from a numpy array?](#14)\n",
        "- [*Exercise 15*. How to make a python function that handles scalars to work on numpy arrays?](#15)\n",
        "- [*Exercise 16*. How to swap two columns in a 2d numpy array?](#16)\n",
        "- [*Exercise 17*. How to swap two rows in a 2d numpy array?](#17)\n",
        "- [*Exercise 18*. How to reverse the rows of a 2D array?](#18)\n",
        "- [*Exercise 19*. How to reverse the columns of a 2D array?](#19)\n",
        "- [*Exercise 20*. How to create a 2D array containing random floats between 5 and 10?](#20)\n",
        "- [*Exercise 21*. How to print only 3 decimal places in python numpy array?](#21)\n",
        "- [*Exercise 22*. How to pretty print a numpy array by suppressing the scientific notation (like 1e10)?](#22)\n",
        "- [*Exercise 23*. How to limit the number of items printed in output of numpy array?](#23)\n",
        "- [*Exercise 24*. How to print the full numpy array without truncating](#24)\n",
        "- [*Exercise 25*. How to import a dataset with numbers and texts keeping the text intact in python numpy?](#25)\n",
        "- [*Exercise 26*. How to extract a particular column from 1D array of tuples?](#26)\n",
        "- [*Exercise 27*. How to convert a 1d array of tuples to a 2d numpy array? ](#27)\n",
        "- [*Exercise 28*. How to compute the mean, median, standard deviation of a numpy array?](#28)\n",
        "- [*Exercise 29*. How to normalize an array so the values range exactly between 0 and 1?](#29)\n",
        "- [*Exercise 30*. How to compute the softmax score?](#30)\n",
        "- [*Exercise 31*. How to find the percentile scores of a numpy array?](#31)\n",
        "- [*Exercise 32*. How to insert values at random positions in an array?](#32)\n",
        "- [*Exercise 33*. How to find the position of missing values in numpy array?](#33)\n",
        "- [*Exercise 34*. How to filter a numpy array based on two or more conditions?](#34)\n",
        "- [*Exercise 35*. How to drop rows that contain a missing value from a numpy array?](#35)\n",
        "- [*Exercise 36*. How to find the correlation between two columns of a numpy array?](#36)\n",
        "- [*Exercise 43*. How to get the second largest value of an array when grouped by another array?](#43)\n",
        "- [*Exercise 44*. How to sort a 2D array by a column](#44)\n",
        "- [*Exercise 45*. How to find the most frequent value in a numpy array?](#45)\n",
        "- [*Exercise 46*. How to find the position of the first occurrence of a value greater than a given value?](#46)\n",
        "- [*Exercise 47*. How to replace all values greater than a given value to a given cutoff?](#47)\n",
        "- [*Exercise 48*. How to get the positions of top n values from a numpy array?](#48)\n",
        "- [*Exercise 49*. How to compute the row wise counts of all possible values in an array?](#49)\n",
        "- [*Exercise 50*. How to convert an array of arrays into a flat 1d array?](#50)"
      ],
      "metadata": {
        "id": "JD_8eHtfbr20"
      }
    },
    {
      "cell_type": "markdown",
      "source": [
        "<a id='import_required_libraries'></a>\n",
        "## Import required libraries\n",
        "<a href=\"#top\" class=\"btn btn-primary btn-sm\" role=\"button\" aria-pressed=\"true\" style=\"color:white\" data-toggle=\"popover\">Go to TOC</a>"
      ],
      "metadata": {
        "id": "GQx1fEa-br20"
      }
    },
    {
      "cell_type": "code",
      "source": [
        "# importing the core library\n",
        "import numpy as np\n",
        "\n",
        "import os\n",
        "for dirname, _, filenames in os.walk('../input'):\n",
        "    for filename in filenames:\n",
        "        print(os.path.join(dirname, filename))\n",
        "\n",
        "# print multiple output in single cell\n",
        "from IPython.core.interactiveshell import InteractiveShell\n",
        "InteractiveShell.ast_node_interactivity = \"all\""
      ],
      "metadata": {
        "_uuid": "8f2839f25d086af736a60e9eeb907d3b93b6e0e5",
        "_cell_guid": "b1076dfc-b9ad-4769-8c92-a6c4dae69d19",
        "trusted": true,
        "id": "PhS4M2Pybr20"
      },
      "execution_count": 2,
      "outputs": []
    },
    {
      "cell_type": "markdown",
      "source": [
        "<a id='1'></a>\n",
        "### *Exercise 1*. Import numpy as np and see the version\n",
        "<a href=\"#top\" class=\"btn btn-primary btn-sm\" role=\"button\" aria-pressed=\"true\" style=\"color:white\" data-toggle=\"popover\">Go to TOC</a>"
      ],
      "metadata": {
        "id": "UPHHnK8sbr21"
      }
    },
    {
      "cell_type": "code",
      "source": [
        "\n",
        "import numpy as np\n",
        "print(np.__version__)"
      ],
      "metadata": {
        "_uuid": "d629ff2d2480ee46fbb7e2d37f6b5fab8052498a",
        "_cell_guid": "79c7e3d0-c299-4dcb-8224-4455121ee9b0",
        "trusted": true,
        "id": "S-cUPLtybr21",
        "outputId": "3a355c55-fea0-47f6-a46f-512c42a62180",
        "colab": {
          "base_uri": "https://localhost:8080/"
        }
      },
      "execution_count": 3,
      "outputs": [
        {
          "output_type": "stream",
          "name": "stdout",
          "text": [
            "2.0.2\n"
          ]
        }
      ]
    },
    {
      "cell_type": "markdown",
      "source": [
        "<a id='2'></a>\n",
        "### *Exercise 2*. How to create a 1D array?\n",
        "<a href=\"#top\" class=\"btn btn-primary btn-sm\" role=\"button\" aria-pressed=\"true\" style=\"color:white\" data-toggle=\"popover\">Go to TOC</a>"
      ],
      "metadata": {
        "id": "F6NK49Sjbr22"
      }
    },
    {
      "cell_type": "code",
      "source": [
        "# Question : Create a 1D array of numbers from 0 to 9\n",
        "# Output : #> array([0, 1, 2, 3, 4, 5, 6, 7, 8, 9])\n",
        "\n",
        "# Solution\n",
        "X = np.arange(10)\n",
        "X"
      ],
      "metadata": {
        "trusted": true,
        "id": "3ElxOs4xbr22",
        "outputId": "73a44ab6-b2e2-4e90-9680-3f31634cd586",
        "colab": {
          "base_uri": "https://localhost:8080/"
        }
      },
      "execution_count": 4,
      "outputs": [
        {
          "output_type": "execute_result",
          "data": {
            "text/plain": [
              "array([0, 1, 2, 3, 4, 5, 6, 7, 8, 9])"
            ]
          },
          "metadata": {},
          "execution_count": 4
        }
      ]
    },
    {
      "cell_type": "markdown",
      "source": [
        "<a id='3'></a>\n",
        "### *Exercise 3*. How to create a boolean array?\n",
        "<a href=\"#top\" class=\"btn btn-primary btn-sm\" role=\"button\" aria-pressed=\"true\" style=\"color:white\" data-toggle=\"popover\">Go to TOC</a>"
      ],
      "metadata": {
        "id": "zYZIth3vbr22"
      }
    },
    {
      "cell_type": "code",
      "source": [
        "# Question : Create a 3×3 numpy array of all True’s\n",
        "\n",
        "# Solution\n",
        "np.full((3,3), True, dtype=bool)\n",
        "\n",
        "#or\n",
        "np.full((9), True, dtype=bool).reshape(3,3)\n",
        "\n",
        "#or\n",
        "np.ones((3,3), dtype=bool)\n",
        "\n",
        "#or\n",
        "np.ones((9), dtype=bool).reshape(3,3)"
      ],
      "metadata": {
        "trusted": true,
        "id": "y6tZThtDbr22",
        "outputId": "759686d9-aa48-48c1-fe72-a41f8c22781d",
        "colab": {
          "base_uri": "https://localhost:8080/"
        }
      },
      "execution_count": 5,
      "outputs": [
        {
          "output_type": "execute_result",
          "data": {
            "text/plain": [
              "array([[ True,  True,  True],\n",
              "       [ True,  True,  True],\n",
              "       [ True,  True,  True]])"
            ]
          },
          "metadata": {},
          "execution_count": 5
        },
        {
          "output_type": "execute_result",
          "data": {
            "text/plain": [
              "array([[ True,  True,  True],\n",
              "       [ True,  True,  True],\n",
              "       [ True,  True,  True]])"
            ]
          },
          "metadata": {},
          "execution_count": 5
        },
        {
          "output_type": "execute_result",
          "data": {
            "text/plain": [
              "array([[ True,  True,  True],\n",
              "       [ True,  True,  True],\n",
              "       [ True,  True,  True]])"
            ]
          },
          "metadata": {},
          "execution_count": 5
        },
        {
          "output_type": "execute_result",
          "data": {
            "text/plain": [
              "array([[ True,  True,  True],\n",
              "       [ True,  True,  True],\n",
              "       [ True,  True,  True]])"
            ]
          },
          "metadata": {},
          "execution_count": 5
        }
      ]
    },
    {
      "cell_type": "markdown",
      "source": [
        "<a id='4'></a>\n",
        "### *Exercise 4*. How to extract items that satisfy a given condition from 1D array?\n",
        "<a href=\"#top\" class=\"btn btn-primary btn-sm\" role=\"button\" aria-pressed=\"true\" style=\"color:white\" data-toggle=\"popover\">Go to TOC</a>"
      ],
      "metadata": {
        "id": "UjrEyRfWbr23"
      }
    },
    {
      "cell_type": "code",
      "source": [
        "# Question : Extract all odd numbers from array\n",
        "# input: arr = np.array([0, 1, 2, 3, 4, 5, 6, 7, 8, 9])\n",
        "# output: array([1, 3, 5, 7, 9])\n",
        "\n",
        "#Solution\n",
        "\n",
        "arr = np.arange(10)\n",
        "\n",
        "arr[arr%2 == 1]"
      ],
      "metadata": {
        "trusted": true,
        "id": "e-OcSQjobr23",
        "outputId": "e13b5aad-aa40-4752-ca3b-6cbcade6752e",
        "colab": {
          "base_uri": "https://localhost:8080/"
        }
      },
      "execution_count": 6,
      "outputs": [
        {
          "output_type": "execute_result",
          "data": {
            "text/plain": [
              "array([1, 3, 5, 7, 9])"
            ]
          },
          "metadata": {},
          "execution_count": 6
        }
      ]
    },
    {
      "cell_type": "markdown",
      "source": [
        "<a id='5'></a>\n",
        "### *Exercise 5*. How to replace items that satisfy a condition with another value in numpy array?\n",
        "<a href=\"#top\" class=\"btn btn-primary btn-sm\" role=\"button\" aria-pressed=\"true\" style=\"color:white\" data-toggle=\"popover\">Go to TOC</a>"
      ],
      "metadata": {
        "id": "dclZeiMsbr23"
      }
    },
    {
      "cell_type": "code",
      "source": [
        "# Question: Replace all odd numbers in arr with -1\n",
        "# input: arr = np.array([0, 1, 2, 3, 4, 5, 6, 7, 8, 9])\n",
        "# output: array([ 0, -1,  2, -1,  4, -1,  6, -1,  8, -1])\n",
        "\n",
        "# Solution\n",
        "\n",
        "arr = np.arange(10)\n",
        "\n",
        "arr[arr%2 == 1] = -1\n",
        "arr"
      ],
      "metadata": {
        "trusted": true,
        "id": "Yzq8AJJmbr23",
        "outputId": "570b47bd-c604-4119-d6e9-b3fe744c49da",
        "colab": {
          "base_uri": "https://localhost:8080/"
        }
      },
      "execution_count": 7,
      "outputs": [
        {
          "output_type": "execute_result",
          "data": {
            "text/plain": [
              "array([ 0, -1,  2, -1,  4, -1,  6, -1,  8, -1])"
            ]
          },
          "metadata": {},
          "execution_count": 7
        }
      ]
    },
    {
      "cell_type": "markdown",
      "source": [
        "<a id='6'></a>\n",
        "### *Exercise 6*. How to replace items that satisfy a condition without affecting the original array?\n",
        "<a href=\"#top\" class=\"btn btn-primary btn-sm\" role=\"button\" aria-pressed=\"true\" style=\"color:white\" data-toggle=\"popover\">Go to TOC</a>"
      ],
      "metadata": {
        "id": "-Qj3vyMMbr23"
      }
    },
    {
      "cell_type": "code",
      "source": [
        "# Question: Replace all odd numbers in arr with -1 without changing arr\n",
        "# input: arr = np.array([0, 1, 2, 3, 4, 5, 6, 7, 8, 9])\n",
        "# output: out\n",
        "# array([ 0, -1,  2, -1,  4, -1,  6, -1,  8, -1])\n",
        "# arr\n",
        "# array([0, 1, 2, 3, 4, 5, 6, 7, 8, 9])\n",
        "\n",
        "# Solution\n",
        "\n",
        "arr = np.arange(10)\n",
        "\n",
        "out = arr.copy()\n",
        "\n",
        "out[out%2 == 1] = -1\n",
        "\n",
        "print('Modified Array')\n",
        "out\n",
        "\n",
        "print('\\nOriginal Array')\n",
        "arr"
      ],
      "metadata": {
        "trusted": true,
        "id": "wD-6lOUBbr24",
        "outputId": "d0608115-125a-462f-e21c-d7e6f46a99fd",
        "colab": {
          "base_uri": "https://localhost:8080/"
        }
      },
      "execution_count": 8,
      "outputs": [
        {
          "output_type": "stream",
          "name": "stdout",
          "text": [
            "Modified Array\n"
          ]
        },
        {
          "output_type": "execute_result",
          "data": {
            "text/plain": [
              "array([ 0, -1,  2, -1,  4, -1,  6, -1,  8, -1])"
            ]
          },
          "metadata": {},
          "execution_count": 8
        },
        {
          "output_type": "stream",
          "name": "stdout",
          "text": [
            "\n",
            "Original Array\n"
          ]
        },
        {
          "output_type": "execute_result",
          "data": {
            "text/plain": [
              "array([0, 1, 2, 3, 4, 5, 6, 7, 8, 9])"
            ]
          },
          "metadata": {},
          "execution_count": 8
        }
      ]
    },
    {
      "cell_type": "markdown",
      "source": [
        "<a id='7'></a>\n",
        "### *Exercise 7*. How to reshape an array?\n",
        "<a href=\"#top\" class=\"btn btn-primary btn-sm\" role=\"button\" aria-pressed=\"true\" style=\"color:white\" data-toggle=\"popover\">Go to TOC</a>"
      ],
      "metadata": {
        "id": "LgU79i0sbr24"
      }
    },
    {
      "cell_type": "code",
      "source": [
        "# Question: Convert a 1D array to a 2D array with 2 rows\n",
        "# input: np.arange(10)\n",
        "# output array([[0, 1, 2, 3, 4],\n",
        "#               [5, 6, 7, 8, 9]])\n",
        "\n",
        "# Solution\n",
        "\n",
        "arr = np.arange(10)\n",
        "arr.reshape(2,5)\n",
        "\n",
        "# Another solution\n",
        "arr = np.arange(10)\n",
        "arr.reshape(2, -1)  # Setting to -1 automatically decides the number of cols"
      ],
      "metadata": {
        "trusted": true,
        "id": "9pSoTgrLbr24",
        "outputId": "f6a993bc-27d7-4c14-f573-290dc5c64bbe",
        "colab": {
          "base_uri": "https://localhost:8080/"
        }
      },
      "execution_count": 9,
      "outputs": [
        {
          "output_type": "execute_result",
          "data": {
            "text/plain": [
              "array([[0, 1, 2, 3, 4],\n",
              "       [5, 6, 7, 8, 9]])"
            ]
          },
          "metadata": {},
          "execution_count": 9
        },
        {
          "output_type": "execute_result",
          "data": {
            "text/plain": [
              "array([[0, 1, 2, 3, 4],\n",
              "       [5, 6, 7, 8, 9]])"
            ]
          },
          "metadata": {},
          "execution_count": 9
        }
      ]
    },
    {
      "cell_type": "markdown",
      "source": [
        "<a id='8'></a>\n",
        "### *Exercise 8*. How to stack two arrays vertically?\n",
        "<a href=\"#top\" class=\"btn btn-primary btn-sm\" role=\"button\" aria-pressed=\"true\" style=\"color:white\" data-toggle=\"popover\">Go to TOC</a>"
      ],
      "metadata": {
        "id": "c9hxghalbr24"
      }
    },
    {
      "cell_type": "code",
      "source": [
        "# Question: Stack arrays a and b vertically\n",
        "# input: a = np.arange(10).reshape(2,-1)\n",
        "#        b = np.repeat(1, 10).reshape(2,-1)\n",
        "\n",
        "# output: array([[0, 1, 2, 3, 4],\n",
        "#                [5, 6, 7, 8, 9],\n",
        "#                [1, 1, 1, 1, 1],\n",
        "#                [1, 1, 1, 1, 1]])\n",
        "\n",
        "# Solution\n",
        "\n",
        "a = np.arange(10).reshape(2,-1)\n",
        "b = np.repeat(1, 10).reshape(2,-1)\n",
        "\n",
        "np.vstack([a,b])"
      ],
      "metadata": {
        "trusted": true,
        "id": "HhZQudqNbr24",
        "outputId": "7e7ce7de-df8d-4460-d29f-afbc454953fe",
        "colab": {
          "base_uri": "https://localhost:8080/"
        }
      },
      "execution_count": 10,
      "outputs": [
        {
          "output_type": "execute_result",
          "data": {
            "text/plain": [
              "array([[0, 1, 2, 3, 4],\n",
              "       [5, 6, 7, 8, 9],\n",
              "       [1, 1, 1, 1, 1],\n",
              "       [1, 1, 1, 1, 1]])"
            ]
          },
          "metadata": {},
          "execution_count": 10
        }
      ]
    },
    {
      "cell_type": "markdown",
      "source": [
        "<a id='9'></a>\n",
        "### *Exercise 9*. How to stack two arrays horizontally?\n",
        "<a href=\"#top\" class=\"btn btn-primary btn-sm\" role=\"button\" aria-pressed=\"true\" style=\"color:white\" data-toggle=\"popover\">Go to TOC</a>"
      ],
      "metadata": {
        "id": "aOcwkTLhbr24"
      }
    },
    {
      "cell_type": "code",
      "source": [
        "# Question: Stack the arrays a and b horizontally.\n",
        "\n",
        "# Input: a = np.arange(10).reshape(2,-1)\n",
        "#        b = np.repeat(1, 10).reshape(2,-1)\n",
        "# Output: array([[0, 1, 2, 3, 4, 1, 1, 1, 1, 1],\n",
        "#                [5, 6, 7, 8, 9, 1, 1, 1, 1, 1]])\n",
        "\n",
        "\n",
        "# Solution:\n",
        "a = np.arange(10).reshape(2,-1)\n",
        "b = np.repeat(1, 10).reshape(2,-1)\n",
        "\n",
        "np.hstack([a,b])"
      ],
      "metadata": {
        "trusted": true,
        "id": "oui0fyLcbr24",
        "outputId": "25d3bfe3-d3c7-4ad9-8a69-19abbcdd41cc",
        "colab": {
          "base_uri": "https://localhost:8080/"
        }
      },
      "execution_count": 11,
      "outputs": [
        {
          "output_type": "execute_result",
          "data": {
            "text/plain": [
              "array([[0, 1, 2, 3, 4, 1, 1, 1, 1, 1],\n",
              "       [5, 6, 7, 8, 9, 1, 1, 1, 1, 1]])"
            ]
          },
          "metadata": {},
          "execution_count": 11
        }
      ]
    },
    {
      "cell_type": "markdown",
      "source": [
        "<a id='10'></a>\n",
        "### *Exercise 10*. How to generate custom sequences in numpy without hardcoding?\n",
        "<a href=\"#top\" class=\"btn btn-primary btn-sm\" role=\"button\" aria-pressed=\"true\" style=\"color:white\" data-toggle=\"popover\">Go to TOC</a>"
      ],
      "metadata": {
        "id": "I5oTBoY7br24"
      }
    },
    {
      "cell_type": "code",
      "source": [
        "# Question: Create the following pattern without hardcoding. Use only numpy functions and the below input array a.\n",
        "\n",
        "# Input: a = np.array([1,2,3])\n",
        "# Output: array([1, 1, 1, 2, 2, 2, 3, 3, 3, 1, 2, 3, 1, 2, 3, 1, 2, 3])\n",
        "\n",
        "\n",
        "# Solution\n",
        "\n",
        "a = np.array([1,2,3])\n",
        "np.r_[np.repeat(a, 3), np.tile(a, 3)]\n",
        "\n",
        "#other solution\n",
        "np.hstack((np.repeat(a, 3), np.tile(a, 3)))"
      ],
      "metadata": {
        "trusted": true,
        "id": "cKVKpRTFbr24",
        "outputId": "ae521bb0-3acc-427f-d717-d957edf6f3f3",
        "colab": {
          "base_uri": "https://localhost:8080/"
        }
      },
      "execution_count": 12,
      "outputs": [
        {
          "output_type": "execute_result",
          "data": {
            "text/plain": [
              "array([1, 1, 1, 2, 2, 2, 3, 3, 3, 1, 2, 3, 1, 2, 3, 1, 2, 3])"
            ]
          },
          "metadata": {},
          "execution_count": 12
        },
        {
          "output_type": "execute_result",
          "data": {
            "text/plain": [
              "array([1, 1, 1, 2, 2, 2, 3, 3, 3, 1, 2, 3, 1, 2, 3, 1, 2, 3])"
            ]
          },
          "metadata": {},
          "execution_count": 12
        }
      ]
    },
    {
      "cell_type": "markdown",
      "source": [
        "<a id='11'></a>\n",
        "### *Exercise 11*. How to get the common items between two python numpy arrays?\n",
        "<a href=\"#top\" class=\"btn btn-primary btn-sm\" role=\"button\" aria-pressed=\"true\" style=\"color:white\" data-toggle=\"popover\">Go to TOC</a>"
      ],
      "metadata": {
        "id": "HzgV77QAbr24"
      }
    },
    {
      "cell_type": "code",
      "source": [
        "# Question: Get the common items between a and b\n",
        "\n",
        "# Input: a = np.array([1,2,3,2,3,4,3,4,5,6])\n",
        "#        b = np.array([7,2,10,2,7,4,9,4,9,8])\n",
        "\n",
        "# Output: array([2, 4])\n",
        "\n",
        "\n",
        "# Solution:\n",
        "a = np.array([1,2,3,2,3,4,3,4,5,6])\n",
        "b = np.array([7,2,10,2,7,4,9,4,9,8])\n",
        "np.intersect1d(a,b)"
      ],
      "metadata": {
        "trusted": true,
        "id": "yanQsaeybr24",
        "outputId": "e78b26be-0892-432f-c50b-34428a961d97",
        "colab": {
          "base_uri": "https://localhost:8080/"
        }
      },
      "execution_count": 13,
      "outputs": [
        {
          "output_type": "execute_result",
          "data": {
            "text/plain": [
              "array([2, 4])"
            ]
          },
          "metadata": {},
          "execution_count": 13
        }
      ]
    },
    {
      "cell_type": "markdown",
      "source": [
        "<a id='12'></a>\n",
        "### *Exercise 12*. How to remove from one array those items that exist in another?\n",
        "<a href=\"#top\" class=\"btn btn-primary btn-sm\" role=\"button\" aria-pressed=\"true\" style=\"color:white\" data-toggle=\"popover\">Go to TOC</a>"
      ],
      "metadata": {
        "id": "1V6kuaBgbr25"
      }
    },
    {
      "cell_type": "code",
      "source": [
        "# Question: From array a remove all items present in array b\n",
        "\n",
        "# Input: a = np.array([1,2,3,4,5])\n",
        "#        b = np.array([5,6,7,8,9])\n",
        "\n",
        "# Output: array([1,2,3,4])\n",
        "\n",
        "\n",
        "# Solution\n",
        "a = np.array([1,2,3,4,5])\n",
        "b = np.array([5,6,7,8,9])\n",
        "\n",
        "np.setdiff1d(a,b)"
      ],
      "metadata": {
        "trusted": true,
        "id": "r0O1tTIPbr25",
        "outputId": "2ae0861e-b514-4894-96e9-e1f328177bb2",
        "colab": {
          "base_uri": "https://localhost:8080/"
        }
      },
      "execution_count": 14,
      "outputs": [
        {
          "output_type": "execute_result",
          "data": {
            "text/plain": [
              "array([1, 2, 3, 4])"
            ]
          },
          "metadata": {},
          "execution_count": 14
        }
      ]
    },
    {
      "cell_type": "markdown",
      "source": [
        "<a id='13'></a>\n",
        "### *Exercise 13*. How to get the positions where elements of two arrays match?\n",
        "<a href=\"#top\" class=\"btn btn-primary btn-sm\" role=\"button\" aria-pressed=\"true\" style=\"color:white\" data-toggle=\"popover\">Go to TOC</a>"
      ],
      "metadata": {
        "id": "bu7kvloTbr25"
      }
    },
    {
      "cell_type": "code",
      "source": [
        "# Question: Get the positions where elements of a and b match\n",
        "\n",
        "# Input: a = np.array([1,2,3,2,3,4,3,4,5,6])\n",
        "#        b = np.array([7,2,10,2,7,4,9,4,9,8])\n",
        "\n",
        "# Output: (array([1, 3, 5, 7]),)\n",
        "\n",
        "\n",
        "# Solution\n",
        "\n",
        "a = np.array([1,2,3,2,3,4,3,4,5,6])\n",
        "b = np.array([7,2,10,2,7,4,9,4,9,8])\n",
        "\n",
        "np.where(a == b)"
      ],
      "metadata": {
        "trusted": true,
        "id": "NCFn4f0-br25",
        "outputId": "55c41880-70b4-4a44-d8f2-d5aaa91f65cc",
        "colab": {
          "base_uri": "https://localhost:8080/"
        }
      },
      "execution_count": 15,
      "outputs": [
        {
          "output_type": "execute_result",
          "data": {
            "text/plain": [
              "(array([1, 3, 5, 7]),)"
            ]
          },
          "metadata": {},
          "execution_count": 15
        }
      ]
    },
    {
      "cell_type": "markdown",
      "source": [
        "<a id='14'></a>\n",
        "### *Exercise 14*. How to extract all numbers between a given range from a numpy array?\n",
        "<a href=\"#top\" class=\"btn btn-primary btn-sm\" role=\"button\" aria-pressed=\"true\" style=\"color:white\" data-toggle=\"popover\">Go to TOC</a>"
      ],
      "metadata": {
        "id": "_xW7skz8br25"
      }
    },
    {
      "cell_type": "code",
      "source": [
        "# Question: Get all items between 5 and 10 from a.\n",
        "\n",
        "# Input: a = np.array([2, 6, 1, 9, 10, 3, 27])\n",
        "# Output: (array([6, 9, 10]),)\n",
        "\n",
        "\n",
        "# Solution\n",
        "\n",
        "a = np.array([2, 6, 1, 9, 10, 3, 27])\n",
        "a[(a >= 5) & (a <= 10)]"
      ],
      "metadata": {
        "trusted": true,
        "id": "wLa1AzRTbr26",
        "outputId": "5f29a677-786f-4c24-9070-f6ba3600f5f1",
        "colab": {
          "base_uri": "https://localhost:8080/"
        }
      },
      "execution_count": 16,
      "outputs": [
        {
          "output_type": "execute_result",
          "data": {
            "text/plain": [
              "array([ 6,  9, 10])"
            ]
          },
          "metadata": {},
          "execution_count": 16
        }
      ]
    },
    {
      "cell_type": "markdown",
      "source": [
        "<a id='15'></a>\n",
        "### *Exercise 15*. How to make a python function that handles scalars to work on numpy arrays?\n",
        "<a href=\"#top\" class=\"btn btn-primary btn-sm\" role=\"button\" aria-pressed=\"true\" style=\"color:white\" data-toggle=\"popover\">Go to TOC</a>"
      ],
      "metadata": {
        "id": "59Y8loU8br26"
      }
    },
    {
      "cell_type": "code",
      "source": [
        "# Question: Convert the function maxx that works on two scalars, to work on two arrays.\n",
        "# Input:\n",
        "\n",
        "def maxx(x, y):\n",
        "    \"\"\"Get the maximum of two items\"\"\"\n",
        "    if x >= y:\n",
        "        return x\n",
        "    else:\n",
        "        return y\n",
        "\n",
        "# maxx(1, 5)\n",
        "#> 5\n",
        "\n",
        "# Output:\n",
        "# a = np.array([5, 7, 9, 8, 6, 4, 5])\n",
        "# b = np.array([6, 3, 4, 8, 9, 7, 1])\n",
        "# pair_max(a, b)\n",
        "# array([ 6.,  7.,  9.,  8.,  9.,  7.,  5.])\n",
        "\n",
        "# Solution\n",
        "\n",
        "def pair_max(x, y):\n",
        "    # here I am using map to make tuple from a and b, other solution is using zip(a,b)\n",
        "    maximum = [maxx(a,b) for a,b in map(lambda a,b:(a,b),x,y)]\n",
        "    # using zip\n",
        "    # maximum = [maxx(a,b) for a,b in zip(x,y)]\n",
        "    return np.array(maximum)\n",
        "\n",
        "a = np.array([5, 7, 9, 8, 6, 4, 5])\n",
        "b = np.array([6, 3, 4, 8, 9, 7, 1])\n",
        "\n",
        "pair_max(a,b)"
      ],
      "metadata": {
        "trusted": true,
        "id": "ayxU0GOFbr26",
        "outputId": "f377400d-4bbc-4709-9104-c2cc84553fab",
        "colab": {
          "base_uri": "https://localhost:8080/"
        }
      },
      "execution_count": 17,
      "outputs": [
        {
          "output_type": "execute_result",
          "data": {
            "text/plain": [
              "array([6, 7, 9, 8, 9, 7, 5])"
            ]
          },
          "metadata": {},
          "execution_count": 17
        }
      ]
    },
    {
      "cell_type": "markdown",
      "source": [
        "<a id='16'></a>\n",
        "### *Exercise 16*. How to swap two columns in a 2d numpy array?\n",
        "<a href=\"#top\" class=\"btn btn-primary btn-sm\" role=\"button\" aria-pressed=\"true\" style=\"color:white\" data-toggle=\"popover\">Go to TOC</a>"
      ],
      "metadata": {
        "id": "B9fuwaJJbr26"
      }
    },
    {
      "cell_type": "code",
      "source": [
        "# Question: Swap columns 1 and 2 in the array arr.\n",
        "\n",
        "# Input:\n",
        "\n",
        "arr = np.arange(9).reshape(3,3)\n",
        "\n",
        "print('Original array')\n",
        "arr\n",
        "\n",
        "# Solution\n",
        "\n",
        "print(\"\\nModified array\")\n",
        "arr[:, [1,0,2]]"
      ],
      "metadata": {
        "trusted": true,
        "id": "DtWCVlJYbr2_",
        "outputId": "21477cdf-dae0-49d2-b77a-1eb7c7b5eb0a",
        "colab": {
          "base_uri": "https://localhost:8080/"
        }
      },
      "execution_count": 18,
      "outputs": [
        {
          "output_type": "stream",
          "name": "stdout",
          "text": [
            "Original array\n"
          ]
        },
        {
          "output_type": "execute_result",
          "data": {
            "text/plain": [
              "array([[0, 1, 2],\n",
              "       [3, 4, 5],\n",
              "       [6, 7, 8]])"
            ]
          },
          "metadata": {},
          "execution_count": 18
        },
        {
          "output_type": "stream",
          "name": "stdout",
          "text": [
            "\n",
            "Modified array\n"
          ]
        },
        {
          "output_type": "execute_result",
          "data": {
            "text/plain": [
              "array([[1, 0, 2],\n",
              "       [4, 3, 5],\n",
              "       [7, 6, 8]])"
            ]
          },
          "metadata": {},
          "execution_count": 18
        }
      ]
    },
    {
      "cell_type": "markdown",
      "source": [
        "<a id='17'></a>\n",
        "### *Exercise 17*. How to swap two rows in a 2d numpy array?\n",
        "<a href=\"#top\" class=\"btn btn-primary btn-sm\" role=\"button\" aria-pressed=\"true\" style=\"color:white\" data-toggle=\"popover\">Go to TOC</a>"
      ],
      "metadata": {
        "id": "SDyAlcjLbr2_"
      }
    },
    {
      "cell_type": "code",
      "source": [
        "# Question: Swap rows 1 and 2 in the array arr:\n",
        "\n",
        "# Input:\n",
        "\n",
        "arr = np.arange(9).reshape(3,3)\n",
        "print('Original array')\n",
        "arr\n",
        "\n",
        "# Solution\n",
        "\n",
        "print(\"\\nModified array\")\n",
        "arr[[1,0,2], :]"
      ],
      "metadata": {
        "trusted": true,
        "id": "hq8UzYtjbr2_",
        "outputId": "5418a8f9-ce37-4fcc-aa36-92e92bb8fafc",
        "colab": {
          "base_uri": "https://localhost:8080/"
        }
      },
      "execution_count": 19,
      "outputs": [
        {
          "output_type": "stream",
          "name": "stdout",
          "text": [
            "Original array\n"
          ]
        },
        {
          "output_type": "execute_result",
          "data": {
            "text/plain": [
              "array([[0, 1, 2],\n",
              "       [3, 4, 5],\n",
              "       [6, 7, 8]])"
            ]
          },
          "metadata": {},
          "execution_count": 19
        },
        {
          "output_type": "stream",
          "name": "stdout",
          "text": [
            "\n",
            "Modified array\n"
          ]
        },
        {
          "output_type": "execute_result",
          "data": {
            "text/plain": [
              "array([[3, 4, 5],\n",
              "       [0, 1, 2],\n",
              "       [6, 7, 8]])"
            ]
          },
          "metadata": {},
          "execution_count": 19
        }
      ]
    },
    {
      "cell_type": "markdown",
      "source": [
        "<a id='18'></a>\n",
        "### *Exercise 18*. How to reverse the rows of a 2D array?\n",
        "<a href=\"#top\" class=\"btn btn-primary btn-sm\" role=\"button\" aria-pressed=\"true\" style=\"color:white\" data-toggle=\"popover\">Go to TOC</a>"
      ],
      "metadata": {
        "id": "Hm8UsNQRbr3A"
      }
    },
    {
      "cell_type": "code",
      "source": [
        "# Question: Reverse the rows of a 2D array arr.\n",
        "\n",
        "# Input:\n",
        "\n",
        "arr = np.arange(9).reshape(3,3)\n",
        "\n",
        "print('Original array')\n",
        "arr\n",
        "\n",
        "# Solution\n",
        "\n",
        "print(\"\\nModified array\")\n",
        "arr[::-1, :]"
      ],
      "metadata": {
        "trusted": true,
        "id": "eHWT51xebr3A",
        "outputId": "090001d9-056d-4f68-c808-0b419bd1c00a",
        "colab": {
          "base_uri": "https://localhost:8080/"
        }
      },
      "execution_count": 20,
      "outputs": [
        {
          "output_type": "stream",
          "name": "stdout",
          "text": [
            "Original array\n"
          ]
        },
        {
          "output_type": "execute_result",
          "data": {
            "text/plain": [
              "array([[0, 1, 2],\n",
              "       [3, 4, 5],\n",
              "       [6, 7, 8]])"
            ]
          },
          "metadata": {},
          "execution_count": 20
        },
        {
          "output_type": "stream",
          "name": "stdout",
          "text": [
            "\n",
            "Modified array\n"
          ]
        },
        {
          "output_type": "execute_result",
          "data": {
            "text/plain": [
              "array([[6, 7, 8],\n",
              "       [3, 4, 5],\n",
              "       [0, 1, 2]])"
            ]
          },
          "metadata": {},
          "execution_count": 20
        }
      ]
    },
    {
      "cell_type": "markdown",
      "source": [
        "<a id='19'></a>\n",
        "### *Exercise 19*. How to reverse the columns of a 2D array?\n",
        "<a href=\"#top\" class=\"btn btn-primary btn-sm\" role=\"button\" aria-pressed=\"true\" style=\"color:white\" data-toggle=\"popover\">Go to TOC</a>"
      ],
      "metadata": {
        "id": "7RJgm_71br3A"
      }
    },
    {
      "cell_type": "code",
      "source": [
        "# Question: Reverse the columns of a 2D array arr.\n",
        "\n",
        "# Input: arr = np.arange(9).reshape(3,3)\n",
        "\n",
        "# Solution\n",
        "\n",
        "arr = np.arange(9).reshape(3,3)\n",
        "print('Original array')\n",
        "arr\n",
        "\n",
        "\n",
        "print(\"\\nModified array\")\n",
        "arr[:, ::-1]"
      ],
      "metadata": {
        "trusted": true,
        "id": "_PSrhlD-br3A",
        "outputId": "e49c99cf-4ba8-44a6-f110-8e32fc35575c",
        "colab": {
          "base_uri": "https://localhost:8080/"
        }
      },
      "execution_count": 21,
      "outputs": [
        {
          "output_type": "stream",
          "name": "stdout",
          "text": [
            "Original array\n"
          ]
        },
        {
          "output_type": "execute_result",
          "data": {
            "text/plain": [
              "array([[0, 1, 2],\n",
              "       [3, 4, 5],\n",
              "       [6, 7, 8]])"
            ]
          },
          "metadata": {},
          "execution_count": 21
        },
        {
          "output_type": "stream",
          "name": "stdout",
          "text": [
            "\n",
            "Modified array\n"
          ]
        },
        {
          "output_type": "execute_result",
          "data": {
            "text/plain": [
              "array([[2, 1, 0],\n",
              "       [5, 4, 3],\n",
              "       [8, 7, 6]])"
            ]
          },
          "metadata": {},
          "execution_count": 21
        }
      ]
    },
    {
      "cell_type": "markdown",
      "source": [
        "<a id='20'></a>\n",
        "### *Exercise 20*. How to create a 2D array containing random floats between 5 and 10?\n",
        "<a href=\"#top\" class=\"btn btn-primary btn-sm\" role=\"button\" aria-pressed=\"true\" style=\"color:white\" data-toggle=\"popover\">Go to TOC</a>"
      ],
      "metadata": {
        "id": "HfdaM9-sbr3A"
      }
    },
    {
      "cell_type": "code",
      "source": [
        "# Question: Create a 2D array of shape 5x3 to contain random decimal numbers between 5 and 10.\n",
        "\n",
        "# Solution:\n",
        "\n",
        "rand_arr = np.random.uniform(5,10, size=(5,3))\n",
        "rand_arr"
      ],
      "metadata": {
        "trusted": true,
        "id": "Z-Vcwph7br3A",
        "outputId": "831387dd-55c7-46a3-e5a2-87f6a87ae838",
        "colab": {
          "base_uri": "https://localhost:8080/"
        }
      },
      "execution_count": 22,
      "outputs": [
        {
          "output_type": "execute_result",
          "data": {
            "text/plain": [
              "array([[5.17360278, 7.86175735, 7.58106906],\n",
              "       [5.81892333, 7.66716966, 6.48243171],\n",
              "       [8.65599826, 5.86001625, 7.62803189],\n",
              "       [5.26219276, 6.32724557, 8.80990279],\n",
              "       [8.00298076, 5.11783011, 6.90906846]])"
            ]
          },
          "metadata": {},
          "execution_count": 22
        }
      ]
    },
    {
      "cell_type": "markdown",
      "source": [
        "<a id='21'></a>\n",
        "### *Exercise 21*. How to print only 3 decimal places in python numpy array?\n",
        "<a href=\"#top\" class=\"btn btn-primary btn-sm\" role=\"button\" aria-pressed=\"true\" style=\"color:white\" data-toggle=\"popover\">Go to TOC</a>"
      ],
      "metadata": {
        "id": "32qVvdoCbr3A"
      }
    },
    {
      "cell_type": "code",
      "source": [
        "# Question: Print or show only 3 decimal places of the numpy array rand_arr.\n",
        "\n",
        "# Input: rand_arr = np.random.random((5,3))\n",
        "\n",
        "rand_arr = np.random.random((5,3))\n",
        "np.set_printoptions(precision=3)\n",
        "rand_arr"
      ],
      "metadata": {
        "trusted": true,
        "id": "C_NWMTsWbr3A",
        "outputId": "c16a3d50-c96f-4e20-bdc7-21463ae9644a",
        "colab": {
          "base_uri": "https://localhost:8080/"
        }
      },
      "execution_count": 23,
      "outputs": [
        {
          "output_type": "execute_result",
          "data": {
            "text/plain": [
              "array([[0.05 , 0.661, 0.759],\n",
              "       [0.448, 0.796, 0.498],\n",
              "       [0.387, 0.414, 0.369],\n",
              "       [0.496, 0.923, 0.255],\n",
              "       [0.782, 0.435, 0.862]])"
            ]
          },
          "metadata": {},
          "execution_count": 23
        }
      ]
    },
    {
      "cell_type": "markdown",
      "source": [
        "<a id='22'></a>\n",
        "### *Exercise 22*. How to pretty print a numpy array by suppressing the scientific notation (like 1e10)?\n",
        "<a href=\"#top\" class=\"btn btn-primary btn-sm\" role=\"button\" aria-pressed=\"true\" style=\"color:white\" data-toggle=\"popover\">Go to TOC</a>"
      ],
      "metadata": {
        "id": "I-jeHE8Qbr3A"
      }
    },
    {
      "cell_type": "code",
      "source": [
        "# Pretty print rand_arr by suppressing the scientific notation (like 1e10)\n",
        "\n",
        "# Input:\n",
        "# Create the random array\n",
        "np.random.seed(100)\n",
        "rand_arr = np.random.random([3,3])/1e3\n",
        "np.set_printoptions(suppress=False)\n",
        "rand_arr\n",
        "\n",
        "# Output:\n",
        "#> array([[ 0.000543,  0.000278,  0.000425],\n",
        "#>        [ 0.000845,  0.000005,  0.000122],\n",
        "#>        [ 0.000671,  0.000826,  0.000137]])\n",
        "\n",
        "np.set_printoptions(suppress=True)\n",
        "rand_arr\n",
        "#> array([[ 0.000543,  0.000278,  0.000425],\n",
        "#>        [ 0.000845,  0.000005,  0.000122],\n",
        "#>        [ 0.000671,  0.000826,  0.000137]])"
      ],
      "metadata": {
        "trusted": true,
        "id": "orqUcJkYbr3A",
        "outputId": "a7ad4ab7-8fde-43ea-f871-435eb69ae815",
        "colab": {
          "base_uri": "https://localhost:8080/"
        }
      },
      "execution_count": 24,
      "outputs": [
        {
          "output_type": "execute_result",
          "data": {
            "text/plain": [
              "array([[5.434e-04, 2.784e-04, 4.245e-04],\n",
              "       [8.448e-04, 4.719e-06, 1.216e-04],\n",
              "       [6.707e-04, 8.259e-04, 1.367e-04]])"
            ]
          },
          "metadata": {},
          "execution_count": 24
        },
        {
          "output_type": "execute_result",
          "data": {
            "text/plain": [
              "array([[0.001, 0.   , 0.   ],\n",
              "       [0.001, 0.   , 0.   ],\n",
              "       [0.001, 0.001, 0.   ]])"
            ]
          },
          "metadata": {},
          "execution_count": 24
        }
      ]
    },
    {
      "cell_type": "markdown",
      "source": [
        "<a id='23'></a>\n",
        "### *Exercise 23*. How to limit the number of items printed in output of numpy array?\n",
        "<a href=\"#top\" class=\"btn btn-primary btn-sm\" role=\"button\" aria-pressed=\"true\" style=\"color:white\" data-toggle=\"popover\">Go to TOC</a>"
      ],
      "metadata": {
        "id": "eM0OU4n3br3A"
      }
    },
    {
      "cell_type": "code",
      "source": [
        "# Question: Limit the number of items printed in python numpy array a to a maximum of 6 elements.\n",
        "a = np.arange(15)\n",
        "np.set_printoptions(threshold=6)\n",
        "a"
      ],
      "metadata": {
        "trusted": true,
        "id": "FVOUh8IZbr3A",
        "outputId": "393f630c-7d21-4e30-bafe-8471f8cb0fdf",
        "colab": {
          "base_uri": "https://localhost:8080/"
        }
      },
      "execution_count": 25,
      "outputs": [
        {
          "output_type": "execute_result",
          "data": {
            "text/plain": [
              "array([ 0,  1,  2, ..., 12, 13, 14])"
            ]
          },
          "metadata": {},
          "execution_count": 25
        }
      ]
    },
    {
      "cell_type": "markdown",
      "source": [
        "<a id='24'></a>\n",
        "### *Exercise 24*. How to print the full numpy array without truncating\n",
        "<a href=\"#top\" class=\"btn btn-primary btn-sm\" role=\"button\" aria-pressed=\"true\" style=\"color:white\" data-toggle=\"popover\">Go to TOC</a>"
      ],
      "metadata": {
        "id": "1DpRGy-Vbr3A"
      }
    },
    {
      "cell_type": "code",
      "source": [
        "# Question: Print the full numpy array a without truncating.\n",
        "\n",
        "# Input: np.set_printoptions(threshold=6)\n",
        "# a = np.arange(15)\n",
        "# a\n",
        "\n",
        "# Output: a\n",
        "#> array([ 0,  1,  2,  3,  4,  5,  6,  7,  8,  9, 10, 11, 12, 13, 14])\n",
        "\n",
        "# Solution\n",
        "\n",
        "a = np.arange(15)\n",
        "\n",
        "\n",
        "np.set_printoptions(threshold=15)\n",
        "a"
      ],
      "metadata": {
        "trusted": true,
        "id": "ZOwgecr1br3B",
        "outputId": "abaf4199-b2f5-4a74-c77d-3e2d0968e0ff",
        "colab": {
          "base_uri": "https://localhost:8080/"
        }
      },
      "execution_count": 26,
      "outputs": [
        {
          "output_type": "execute_result",
          "data": {
            "text/plain": [
              "array([ 0,  1,  2,  3,  4,  5,  6,  7,  8,  9, 10, 11, 12, 13, 14])"
            ]
          },
          "metadata": {},
          "execution_count": 26
        }
      ]
    },
    {
      "cell_type": "markdown",
      "source": [
        "<a id='25'></a>\n",
        "### *Exercise 25*. How to import a dataset with numbers and texts keeping the text intact in python numpy?\n",
        "<a href=\"#top\" class=\"btn btn-primary btn-sm\" role=\"button\" aria-pressed=\"true\" style=\"color:white\" data-toggle=\"popover\">Go to TOC</a>"
      ],
      "metadata": {
        "id": "Fft6yyTZbr3B"
      }
    },
    {
      "cell_type": "code",
      "source": [
        "# Question: Import the iris dataset keeping the text intact.\n",
        "\n",
        "# Solution:\n",
        "iris_data = np.genfromtxt('../input/iris/Iris.csv', delimiter=',', skip_header=1,\n",
        "                          usecols = [0,1,2,3,4,5], dtype = object)\n",
        "iris_data"
      ],
      "metadata": {
        "trusted": true,
        "id": "BRpe9S3Vbr3B",
        "outputId": "0ec60280-fa64-4d29-d081-60d7e4ddae65",
        "colab": {
          "base_uri": "https://localhost:8080/",
          "height": 356
        }
      },
      "execution_count": 27,
      "outputs": [
        {
          "output_type": "error",
          "ename": "FileNotFoundError",
          "evalue": "../input/iris/Iris.csv not found.",
          "traceback": [
            "\u001b[0;31m---------------------------------------------------------------------------\u001b[0m",
            "\u001b[0;31mFileNotFoundError\u001b[0m                         Traceback (most recent call last)",
            "\u001b[0;32m/tmp/ipython-input-2967064202.py\u001b[0m in \u001b[0;36m<cell line: 0>\u001b[0;34m()\u001b[0m\n\u001b[1;32m      2\u001b[0m \u001b[0;34m\u001b[0m\u001b[0m\n\u001b[1;32m      3\u001b[0m \u001b[0;31m# Solution:\u001b[0m\u001b[0;34m\u001b[0m\u001b[0;34m\u001b[0m\u001b[0m\n\u001b[0;32m----> 4\u001b[0;31m iris_data = np.genfromtxt('../input/iris/Iris.csv', delimiter=',', skip_header=1, \n\u001b[0m\u001b[1;32m      5\u001b[0m                           usecols = [0,1,2,3,4,5], dtype = object)\n\u001b[1;32m      6\u001b[0m \u001b[0miris_data\u001b[0m\u001b[0;34m\u001b[0m\u001b[0;34m\u001b[0m\u001b[0m\n",
            "\u001b[0;32m/usr/local/lib/python3.11/dist-packages/numpy/lib/_npyio_impl.py\u001b[0m in \u001b[0;36mgenfromtxt\u001b[0;34m(fname, dtype, comments, delimiter, skip_header, skip_footer, converters, missing_values, filling_values, usecols, names, excludelist, deletechars, replace_space, autostrip, case_sensitive, defaultfmt, unpack, usemask, loose, invalid_raise, max_rows, encoding, ndmin, like)\u001b[0m\n\u001b[1;32m   1987\u001b[0m         \u001b[0mfname\u001b[0m \u001b[0;34m=\u001b[0m \u001b[0mos\u001b[0m\u001b[0;34m.\u001b[0m\u001b[0mfspath\u001b[0m\u001b[0;34m(\u001b[0m\u001b[0mfname\u001b[0m\u001b[0;34m)\u001b[0m\u001b[0;34m\u001b[0m\u001b[0;34m\u001b[0m\u001b[0m\n\u001b[1;32m   1988\u001b[0m     \u001b[0;32mif\u001b[0m \u001b[0misinstance\u001b[0m\u001b[0;34m(\u001b[0m\u001b[0mfname\u001b[0m\u001b[0;34m,\u001b[0m \u001b[0mstr\u001b[0m\u001b[0;34m)\u001b[0m\u001b[0;34m:\u001b[0m\u001b[0;34m\u001b[0m\u001b[0;34m\u001b[0m\u001b[0m\n\u001b[0;32m-> 1989\u001b[0;31m         \u001b[0mfid\u001b[0m \u001b[0;34m=\u001b[0m \u001b[0mnp\u001b[0m\u001b[0;34m.\u001b[0m\u001b[0mlib\u001b[0m\u001b[0;34m.\u001b[0m\u001b[0m_datasource\u001b[0m\u001b[0;34m.\u001b[0m\u001b[0mopen\u001b[0m\u001b[0;34m(\u001b[0m\u001b[0mfname\u001b[0m\u001b[0;34m,\u001b[0m \u001b[0;34m'rt'\u001b[0m\u001b[0;34m,\u001b[0m \u001b[0mencoding\u001b[0m\u001b[0;34m=\u001b[0m\u001b[0mencoding\u001b[0m\u001b[0;34m)\u001b[0m\u001b[0;34m\u001b[0m\u001b[0;34m\u001b[0m\u001b[0m\n\u001b[0m\u001b[1;32m   1990\u001b[0m         \u001b[0mfid_ctx\u001b[0m \u001b[0;34m=\u001b[0m \u001b[0mcontextlib\u001b[0m\u001b[0;34m.\u001b[0m\u001b[0mclosing\u001b[0m\u001b[0;34m(\u001b[0m\u001b[0mfid\u001b[0m\u001b[0;34m)\u001b[0m\u001b[0;34m\u001b[0m\u001b[0;34m\u001b[0m\u001b[0m\n\u001b[1;32m   1991\u001b[0m     \u001b[0;32melse\u001b[0m\u001b[0;34m:\u001b[0m\u001b[0;34m\u001b[0m\u001b[0;34m\u001b[0m\u001b[0m\n",
            "\u001b[0;32m/usr/local/lib/python3.11/dist-packages/numpy/lib/_datasource.py\u001b[0m in \u001b[0;36mopen\u001b[0;34m(path, mode, destpath, encoding, newline)\u001b[0m\n\u001b[1;32m    190\u001b[0m \u001b[0;34m\u001b[0m\u001b[0m\n\u001b[1;32m    191\u001b[0m     \u001b[0mds\u001b[0m \u001b[0;34m=\u001b[0m \u001b[0mDataSource\u001b[0m\u001b[0;34m(\u001b[0m\u001b[0mdestpath\u001b[0m\u001b[0;34m)\u001b[0m\u001b[0;34m\u001b[0m\u001b[0;34m\u001b[0m\u001b[0m\n\u001b[0;32m--> 192\u001b[0;31m     \u001b[0;32mreturn\u001b[0m \u001b[0mds\u001b[0m\u001b[0;34m.\u001b[0m\u001b[0mopen\u001b[0m\u001b[0;34m(\u001b[0m\u001b[0mpath\u001b[0m\u001b[0;34m,\u001b[0m \u001b[0mmode\u001b[0m\u001b[0;34m,\u001b[0m \u001b[0mencoding\u001b[0m\u001b[0;34m=\u001b[0m\u001b[0mencoding\u001b[0m\u001b[0;34m,\u001b[0m \u001b[0mnewline\u001b[0m\u001b[0;34m=\u001b[0m\u001b[0mnewline\u001b[0m\u001b[0;34m)\u001b[0m\u001b[0;34m\u001b[0m\u001b[0;34m\u001b[0m\u001b[0m\n\u001b[0m\u001b[1;32m    193\u001b[0m \u001b[0;34m\u001b[0m\u001b[0m\n\u001b[1;32m    194\u001b[0m \u001b[0;34m\u001b[0m\u001b[0m\n",
            "\u001b[0;32m/usr/local/lib/python3.11/dist-packages/numpy/lib/_datasource.py\u001b[0m in \u001b[0;36mopen\u001b[0;34m(self, path, mode, encoding, newline)\u001b[0m\n\u001b[1;32m    530\u001b[0m                                       encoding=encoding, newline=newline)\n\u001b[1;32m    531\u001b[0m         \u001b[0;32melse\u001b[0m\u001b[0;34m:\u001b[0m\u001b[0;34m\u001b[0m\u001b[0;34m\u001b[0m\u001b[0m\n\u001b[0;32m--> 532\u001b[0;31m             \u001b[0;32mraise\u001b[0m \u001b[0mFileNotFoundError\u001b[0m\u001b[0;34m(\u001b[0m\u001b[0;34mf\"{path} not found.\"\u001b[0m\u001b[0;34m)\u001b[0m\u001b[0;34m\u001b[0m\u001b[0;34m\u001b[0m\u001b[0m\n\u001b[0m\u001b[1;32m    533\u001b[0m \u001b[0;34m\u001b[0m\u001b[0m\n\u001b[1;32m    534\u001b[0m \u001b[0;34m\u001b[0m\u001b[0m\n",
            "\u001b[0;31mFileNotFoundError\u001b[0m: ../input/iris/Iris.csv not found."
          ]
        }
      ]
    },
    {
      "cell_type": "markdown",
      "source": [
        "<a id='26'></a>\n",
        "### *Exercise 26*. How to extract a particular column from 1D array of tuples?\n",
        "<a href=\"#top\" class=\"btn btn-primary btn-sm\" role=\"button\" aria-pressed=\"true\" style=\"color:white\" data-toggle=\"popover\">Go to TOC</a>"
      ],
      "metadata": {
        "id": "SqNLsDcMbr3B"
      }
    },
    {
      "cell_type": "code",
      "source": [
        "# Question: Extract the text column species from the 1D iris imported in previous question.\n",
        "\n",
        "data = np.genfromtxt('../input/iris/Iris.csv', delimiter=',', skip_header=1,\n",
        "                          usecols = [-1], dtype = object)\n",
        "data"
      ],
      "metadata": {
        "trusted": true,
        "id": "vUCxiSpHbr3B"
      },
      "execution_count": null,
      "outputs": []
    },
    {
      "cell_type": "markdown",
      "source": [
        "<a id='27'></a>\n",
        "### *Exercise 27*. How to convert a 1d array of tuples to a 2d numpy array?\n",
        "<a href=\"#top\" class=\"btn btn-primary btn-sm\" role=\"button\" aria-pressed=\"true\" style=\"color:white\" data-toggle=\"popover\">Go to TOC</a>"
      ],
      "metadata": {
        "id": "C1hKMxOBbr3B"
      }
    },
    {
      "cell_type": "code",
      "source": [
        "# Question: Convert the 1D iris to 2D array iris_2d by omitting the species text field.\n",
        "iris_data = np.genfromtxt('../input/iris/Iris.csv', delimiter=',', skip_header=1, dtype='float', usecols=[0,1,2,3])\n",
        "iris_data"
      ],
      "metadata": {
        "trusted": true,
        "id": "Cow_kmIhbr3B"
      },
      "execution_count": null,
      "outputs": []
    },
    {
      "cell_type": "markdown",
      "source": [
        "<a id='28'></a>\n",
        "### *Exercise 28*. How to compute the mean, median, standard deviation of a numpy array?\n",
        "<a href=\"#top\" class=\"btn btn-primary btn-sm\" role=\"button\" aria-pressed=\"true\" style=\"color:white\" data-toggle=\"popover\">Go to TOC</a>"
      ],
      "metadata": {
        "id": "o4zeJbeGbr3B"
      }
    },
    {
      "cell_type": "code",
      "source": [
        "# Question: Find the mean, median, standard deviation of iris's sepallength (1st column)\n",
        "\n",
        "iris_data = np.genfromtxt('../input/iris/Iris.csv', delimiter=',', skip_header=1, usecols = [1])\n",
        "\n",
        "print('Mean', np.mean(iris_data))\n",
        "print('Median', np.median(iris_data))\n",
        "print('Standard Deviation', np.std(iris_data))"
      ],
      "metadata": {
        "trusted": true,
        "id": "Wypsx06Ubr3C"
      },
      "execution_count": null,
      "outputs": []
    },
    {
      "cell_type": "markdown",
      "source": [
        "<a id='29'></a>\n",
        "### *Exercise 29*. How to normalize an array so the values range exactly between 0 and 1?\n",
        "<a href=\"#top\" class=\"btn btn-primary btn-sm\" role=\"button\" aria-pressed=\"true\" style=\"color:white\" data-toggle=\"popover\">Go to TOC</a>"
      ],
      "metadata": {
        "id": "yaa7R6MUbr3C"
      }
    },
    {
      "cell_type": "code",
      "source": [
        "# Question: Create a normalized form of iris's sepallength whose values range exactly between 0 and 1 so that the minimum has value 0 and maximum has value 1.\n",
        "\n",
        "# Solution\n",
        "\n",
        "iris_data = np.genfromtxt('../input/iris/Iris.csv', delimiter=',', dtype='float', usecols=[1], skip_header=1)\n",
        "\n",
        "(iris_data - np.min(iris_data))/(np.max(iris_data) - np.min(iris_data))"
      ],
      "metadata": {
        "trusted": true,
        "id": "YeQXW3Utbr3C"
      },
      "execution_count": null,
      "outputs": []
    },
    {
      "cell_type": "markdown",
      "source": [
        "<a id='30'></a>\n",
        "### *Exercise 30*. How to compute the softmax score?\n",
        "<a href=\"#top\" class=\"btn btn-primary btn-sm\" role=\"button\" aria-pressed=\"true\" style=\"color:white\" data-toggle=\"popover\">Go to TOC</a>"
      ],
      "metadata": {
        "id": "I39met5kbr3C"
      }
    },
    {
      "cell_type": "code",
      "source": [
        "# Question: Compute the softmax score of sepallength.\n",
        "\n",
        "iris_data = np.genfromtxt('../input/iris/Iris.csv', delimiter=',', dtype='float', usecols=[1], skip_header=1)\n",
        "softmax = np.exp(iris_data)/sum(np.exp(iris_data))\n",
        "softmax.sum() # it must sum 1\n",
        "softmax"
      ],
      "metadata": {
        "trusted": true,
        "id": "KRZTRVc8br3C"
      },
      "execution_count": null,
      "outputs": []
    },
    {
      "cell_type": "markdown",
      "source": [
        "<a id='31'></a>\n",
        "### *Exercise 31*. How to find the percentile scores of a numpy array?\n",
        "<a href=\"#top\" class=\"btn btn-primary btn-sm\" role=\"button\" aria-pressed=\"true\" style=\"color:white\" data-toggle=\"popover\">Go to TOC</a>"
      ],
      "metadata": {
        "id": "WdRdVAxPbr3C"
      }
    },
    {
      "cell_type": "code",
      "source": [
        "# Question. Find the 5th and 95th percentile of iris's sepallength\n",
        "iris_data = np.genfromtxt('../input/iris/Iris.csv', delimiter=',', dtype='float', usecols=[1], skip_header=1)\n",
        "\n",
        "np.percentile(iris_data, q=[5, 95])"
      ],
      "metadata": {
        "trusted": true,
        "id": "t-tajIkSbr3C"
      },
      "execution_count": null,
      "outputs": []
    },
    {
      "cell_type": "markdown",
      "source": [
        "<a id='32'></a>\n",
        "### *Exercise 32*. How to insert values at random positions in an array?\n",
        "<a href=\"#top\" class=\"btn btn-primary btn-sm\" role=\"button\" aria-pressed=\"true\" style=\"color:white\" data-toggle=\"popover\">Go to TOC</a>"
      ],
      "metadata": {
        "id": "caGp058mbr3C"
      }
    },
    {
      "cell_type": "code",
      "source": [
        "# Question: Insert np.nan values at 20 random positions in iris_2d dataset\n",
        "\n",
        "# Solution\n",
        "iris_data = np.genfromtxt('../input/iris/Iris.csv', delimiter=',', dtype='float', usecols=[1,2,3,4], skip_header=1)\n",
        "for i in np.random.randint(0, len(iris_data), 20):\n",
        "    iris_data[i]=np.nan\n",
        "iris_data"
      ],
      "metadata": {
        "trusted": true,
        "id": "nzfPh3KYbr3C"
      },
      "execution_count": null,
      "outputs": []
    },
    {
      "cell_type": "markdown",
      "source": [
        "<a id='33'></a>\n",
        "### *Exercise 33*. How to find the position of missing values in numpy array?\n",
        "<a href=\"#top\" class=\"btn btn-primary btn-sm\" role=\"button\" aria-pressed=\"true\" style=\"color:white\" data-toggle=\"popover\">Go to TOC</a>"
      ],
      "metadata": {
        "id": "nAQZNSgSbr3D"
      }
    },
    {
      "cell_type": "code",
      "source": [
        "# Question: Find the number and position of missing values in iris_2d's sepallength (1st column)\n",
        "\n",
        "iris_data = np.genfromtxt('../input/iris/Iris.csv', delimiter=',', dtype='float', usecols=[1,2,3,4], skip_header=1)\n",
        "iris_data[np.random.randint(len(iris_data), size=20),np.random.randint(4,size=20)] = np.nan\n",
        "\n",
        "# Find total mising value in complete data\n",
        "print(\"Number of missing values in Iris data: \\n\", np.isnan(iris_data[:, :]).sum())\n",
        "\n",
        "# Find total mising value in 1D data\n",
        "print(\"Number of missing values in any one feature of Iris data: \\n\", np.isnan(iris_data[:, 0]).sum())\n",
        "\n",
        "print(\"Position of missing values: \\n\", np.where(np.isnan(iris_data[:, 0])))"
      ],
      "metadata": {
        "trusted": true,
        "id": "yT5CGzTzbr3D"
      },
      "execution_count": null,
      "outputs": []
    },
    {
      "cell_type": "markdown",
      "source": [
        "<a id='34'></a>\n",
        "### *Exercise 34*. How to filter a numpy array based on two or more conditions?\n",
        "<a href=\"#top\" class=\"btn btn-primary btn-sm\" role=\"button\" aria-pressed=\"true\" style=\"color:white\" data-toggle=\"popover\">Go to TOC</a>"
      ],
      "metadata": {
        "id": "7AJ5XDZHbr3D"
      }
    },
    {
      "cell_type": "code",
      "source": [
        "# Question: Filter the rows of iris_2d that has petallength (3rd column) > 1.5 and sepallength (1st column) < 5.0\n",
        "\n",
        "iris_data = np.genfromtxt('../input/iris/Iris.csv', delimiter=',', dtype='float', usecols=[1,2,3,4], skip_header=1)\n",
        "\n",
        "# Solution\n",
        "iris_data[(iris_data[:, 2] > 1.5) & (iris_data[:, 0] < 5.0)]"
      ],
      "metadata": {
        "trusted": true,
        "id": "s3uaHAChbr3D"
      },
      "execution_count": null,
      "outputs": []
    },
    {
      "cell_type": "markdown",
      "source": [
        "<a id='35'></a>\n",
        "### *Exercise 35*. How to drop rows that contain a missing value from a numpy array?\n",
        "<a href=\"#top\" class=\"btn btn-primary btn-sm\" role=\"button\" aria-pressed=\"true\" style=\"color:white\" data-toggle=\"popover\">Go to TOC</a>"
      ],
      "metadata": {
        "id": "YYvOIakJbr3D"
      }
    },
    {
      "cell_type": "code",
      "source": [
        "# Question: Select the rows of iris_2d that does not have any nan value.\n",
        "\n",
        "diabetes_data = np.genfromtxt('../input/pima-indians-diabetes-database/diabetes.csv', delimiter=',', dtype='float', usecols=[0,1,2,3,4,5,6,7], skip_header=1)\n",
        "diabetes_data[np.random.randint(150, size=20), np.random.randint(4, size=20)] = np.nan\n",
        "diabetes_data[np.sum(np.isnan(diabetes_data), axis = 1) == 0][:5]"
      ],
      "metadata": {
        "trusted": true,
        "id": "HUxqS-wCbr3D"
      },
      "execution_count": null,
      "outputs": []
    },
    {
      "cell_type": "markdown",
      "source": [
        "<a id='36'></a>\n",
        "### *Exercise 36*. How to find the correlation between two columns of a numpy array?\n",
        "<a href=\"#top\" class=\"btn btn-primary btn-sm\" role=\"button\" aria-pressed=\"true\" style=\"color:white\" data-toggle=\"popover\">Go to TOC</a>"
      ],
      "metadata": {
        "id": "7eY9iv0Tbr3D"
      }
    },
    {
      "cell_type": "code",
      "source": [
        "# question: Find the correlation between SepalLength(1st column) and PetalLength(3rd column) in iris_2d\n",
        "# insted or using iris data I am going to used pima diabetes data and going to find corelation between BP(1st column) and BMI (5th column).\n",
        "\n",
        "diabetes_data = np.genfromtxt('../input/pima-indians-diabetes-database/diabetes.csv',\n",
        "                              delimiter=',', dtype='float', usecols=[0,1,2,3,4,5,6,7], skip_header=1)\n",
        "\n",
        "print(np.corrcoef(diabetes_data[:, 1], diabetes_data[:, 5]))\n",
        "\n",
        "print('\\n')\n",
        "# you can get correlation by getting value at index [0,1] or [1,0]\n",
        "print(np.corrcoef(diabetes_data[:, 1], diabetes_data[:, 5])[0,1])"
      ],
      "metadata": {
        "trusted": true,
        "id": "R8AdbviNbr3D"
      },
      "execution_count": null,
      "outputs": []
    },
    {
      "cell_type": "markdown",
      "source": [
        "<a id='37'></a>\n",
        "### *Exercise 37*. How to find if a given array has any null values?\n",
        "<a href=\"#top\" class=\"btn btn-primary btn-sm\" role=\"button\" aria-pressed=\"true\" style=\"color:white\" data-toggle=\"popover\">Go to TOC</a>"
      ],
      "metadata": {
        "id": "1QTQFUv4br3D"
      }
    },
    {
      "cell_type": "code",
      "source": [
        "# question: Find out if iris_2d has any missing values.\n",
        "diabetes_data = np.genfromtxt('../input/pima-indians-diabetes-database/diabetes.csv',\n",
        "                              delimiter=',', dtype='float', usecols=[0,1,2,3,4,5,6,7], skip_header=1)\n",
        "\n",
        "np.isnan(diabetes_data).any()"
      ],
      "metadata": {
        "trusted": true,
        "id": "m1k4dS9-br3E"
      },
      "execution_count": null,
      "outputs": []
    },
    {
      "cell_type": "markdown",
      "source": [
        "<a id='38'></a>\n",
        "### *Exercise 38*. How to replace all missing values with 0 in a numpy array?\n",
        "<a href=\"#top\" class=\"btn btn-primary btn-sm\" role=\"button\" aria-pressed=\"true\" style=\"color:white\" data-toggle=\"popover\">Go to TOC</a>"
      ],
      "metadata": {
        "id": "w844NGmabr3E"
      }
    },
    {
      "cell_type": "code",
      "source": [
        "# Question: Replace all ccurrences of nan with 0 in numpy array\n",
        "\n",
        "wine_quality = np.genfromtxt('../input/red-wine-quality-cortez-et-al-2009/winequality-red.csv',\n",
        "                             delimiter=',', dtype='float', usecols=[0,1,2,3,4,5,6,7,8,9,10], skip_header=1)\n",
        "\n",
        "wine_quality[np.random.randint(len(wine_quality), size=20), np.random.randint(11, size=20)] = np.nan\n",
        "\n",
        "print(\"Does dataset have any Nan value:\",np.isnan(wine_quality).any())\n",
        "\n",
        "wine_quality[np.isnan(wine_quality)] = 0\n",
        "\n",
        "print(\"Does dataset have any Nan value:\",np.isnan(wine_quality).any())"
      ],
      "metadata": {
        "trusted": true,
        "id": "DFaoOq5lbr3E"
      },
      "execution_count": null,
      "outputs": []
    },
    {
      "cell_type": "markdown",
      "source": [
        "<a id='39'></a>\n",
        "### *Exercise 39*. How to find the count of unique values in a numpy array?\n",
        "\n",
        "<a href=\"#top\" class=\"btn btn-primary btn-sm\" role=\"button\" aria-pressed=\"true\" style=\"color:white\" data-toggle=\"popover\">Go to TOC</a>"
      ],
      "metadata": {
        "id": "7-Ii2u8Bbr3E"
      }
    },
    {
      "cell_type": "code",
      "source": [
        "# Question: Find the unique values and the count of unique values in mashroom data's habitat (22 column) column\n",
        "\n",
        "mushroom = np.genfromtxt('../input/mushroom-classification/mushrooms.csv',\n",
        "                             delimiter=',', dtype=object, usecols=[0], skip_header=1)\n",
        "#mushroom\n",
        "np.unique(mushroom, return_counts=True)"
      ],
      "metadata": {
        "trusted": true,
        "id": "raEQT_Z-br3E"
      },
      "execution_count": null,
      "outputs": []
    },
    {
      "cell_type": "markdown",
      "source": [
        "<a id='40'></a>\n",
        "### *Exercise 40*. How to convert a numeric to a categorical (text) array?\n",
        "<a href=\"#top\" class=\"btn btn-primary btn-sm\" role=\"button\" aria-pressed=\"true\" style=\"color:white\" data-toggle=\"popover\">Go to TOC</a>"
      ],
      "metadata": {
        "id": "d6brnGbQbr3E"
      }
    },
    {
      "cell_type": "code",
      "source": [
        "# Question: Bin the petal length (3rd) column of iris_2d to form a text array, such that if petal length is:\n",
        "\n",
        "# Less than 3 --> 'small'\n",
        "# 3-5 --> 'medium'\n",
        "# >=5 --> 'large'\n",
        "\n",
        "# Solution\n",
        "\n",
        "iris_data = np.genfromtxt('../input/iris/Iris.csv', delimiter=',', dtype=object, usecols=[3], skip_header=1)\n",
        "\n",
        "bins = np.array([0, 3, 5, 7])\n",
        "inds = np.digitize(iris_data.astype('float'), bins)\n",
        "\n",
        "labels = {1:'small', 2: 'medium', 3:'large'}\n",
        "iris_cat_data = [labels[x] for x in inds]\n",
        "iris_cat_data[:10]"
      ],
      "metadata": {
        "trusted": true,
        "id": "dpdGtGVlbr3E"
      },
      "execution_count": null,
      "outputs": []
    },
    {
      "cell_type": "markdown",
      "source": [
        "<a id='41'></a>\n",
        "### *Exercise 41*. How to create a new column from existing columns of a numpy array?\n",
        "<a href=\"#top\" class=\"btn btn-primary btn-sm\" role=\"button\" aria-pressed=\"true\" style=\"color:white\" data-toggle=\"popover\">Go to TOC</a>"
      ],
      "metadata": {
        "id": "6VXhr_z9br3E"
      }
    },
    {
      "cell_type": "code",
      "source": [
        "# Question: Create a new column for volume in iris_2d, where volume is (pi x petallength x sepal_length^2)/3\n",
        "\n",
        "iris_data = np.genfromtxt('../input/iris/Iris.csv', delimiter=',',\n",
        "                          dtype=object, usecols=[1,2,3,4], skip_header=1)\n",
        "\n",
        "sepallength = iris_data[:, 0].astype('float')\n",
        "petallength = iris_data[:, 2].astype('float')\n",
        "\n",
        "new_column = (np.pi * petallength * (sepallength**2))/3\n",
        "\n",
        "new_column = new_column[:, np.newaxis]\n",
        "#new_column\n",
        "\n",
        "# Add the new column\n",
        "out = np.hstack([iris_data, new_column])\n",
        "\n",
        "# View\n",
        "out[:4]"
      ],
      "metadata": {
        "trusted": true,
        "id": "YIjrq5bhbr3F"
      },
      "execution_count": null,
      "outputs": []
    },
    {
      "cell_type": "markdown",
      "source": [
        "<a id='42'></a>\n",
        "### *Exercise 42*. How to do probabilistic sampling in numpy?\n",
        "<a href=\"#top\" class=\"btn btn-primary btn-sm\" role=\"button\" aria-pressed=\"true\" style=\"color:white\" data-toggle=\"popover\">Go to TOC</a>"
      ],
      "metadata": {
        "id": "ANfc2tbVbr3F"
      }
    },
    {
      "cell_type": "code",
      "source": [
        "# Question: Randomly sample iris's species such that setose is twice the number of versicolor and virginica\n",
        "\n",
        "iris_data = np.genfromtxt('../input/iris/Iris.csv', delimiter=',',\n",
        "                          dtype=object, usecols=[1,2,3,4,5], skip_header=1)\n",
        "\n",
        "np.random.seed(100)\n",
        "a = np.array(['Iris-setosa', 'Iris-versicolor', 'Iris-virginica'])\n",
        "species_out = np.random.choice(a, 150, p=[0.5, 0.25, 0.25])\n",
        "print(np.unique(species_out, return_counts=True))"
      ],
      "metadata": {
        "trusted": true,
        "id": "v14247uMbr3F"
      },
      "execution_count": null,
      "outputs": []
    },
    {
      "cell_type": "markdown",
      "source": [
        "<a id='43'></a>\n",
        "### *Exercise 43*. How to get the second largest value of an array when grouped by another array?\n",
        "<a href=\"#top\" class=\"btn btn-primary btn-sm\" role=\"button\" aria-pressed=\"true\" style=\"color:white\" data-toggle=\"popover\">Go to TOC</a>"
      ],
      "metadata": {
        "id": "bCqlncGzbr3F"
      }
    },
    {
      "cell_type": "code",
      "source": [
        "# Question: What is the value of second longest petallength of species setosa\n",
        "# For this question I am going to find second highest bloodpressure (2nd column) where outcome is 1\n",
        "diabetes_data = np.genfromtxt('../input/pima-indians-diabetes-database/diabetes.csv',\n",
        "                              delimiter=',', dtype=object, usecols=[0,1,2,3,4,5,6,7,8], skip_header=1)\n",
        "\n",
        "# Solution\n",
        "bloodpressure= diabetes_data[diabetes_data[:, 8]==b'1', [2]].astype('float')\n",
        "\n",
        "np.unique(np.sort(bloodpressure))[-2]"
      ],
      "metadata": {
        "trusted": true,
        "id": "6QEMiSb_br3F"
      },
      "execution_count": null,
      "outputs": []
    },
    {
      "cell_type": "markdown",
      "source": [
        "<a id='44'></a>\n",
        "### *Exercise 44*. How to sort a 2D array by a column\n",
        "<a href=\"#top\" class=\"btn btn-primary btn-sm\" role=\"button\" aria-pressed=\"true\" style=\"color:white\" data-toggle=\"popover\">Go to TOC</a>"
      ],
      "metadata": {
        "id": "kyHDHW_Nbr3F"
      }
    },
    {
      "cell_type": "code",
      "source": [
        "# Question: Sort the iris dataset based on sepallength column.\n",
        "# In this problem, I am going to sort the diabetes dataset based on Glucose (1th column)\n",
        "diabetes_data = np.genfromtxt('../input/pima-indians-diabetes-database/diabetes.csv',\n",
        "                              delimiter=',', dtype=object, usecols=[0,1,2,3,4,5,6,7,8], skip_header=1)\n",
        "\n",
        "diabetes_data[diabetes_data[:,1].argsort()]"
      ],
      "metadata": {
        "trusted": true,
        "id": "AATi4AgJbr3F"
      },
      "execution_count": null,
      "outputs": []
    },
    {
      "cell_type": "markdown",
      "source": [
        "<a id='45'></a>\n",
        "### *Exercise 45*. How to find the most frequent value in a numpy array?\n",
        "<a href=\"#top\" class=\"btn btn-primary btn-sm\" role=\"button\" aria-pressed=\"true\" style=\"color:white\" data-toggle=\"popover\">Go to TOC</a>"
      ],
      "metadata": {
        "id": "8dSqxMnTbr3F"
      }
    },
    {
      "cell_type": "code",
      "source": [
        "# Question: Find the most frequent value of petal length (3rd column) in iris dataset.\n",
        "\n",
        "iris_data = np.genfromtxt('../input/iris/Iris.csv', delimiter=',',\n",
        "                          dtype=object, usecols=[1,2,3,4,5], skip_header=1)\n",
        "\n",
        "v,c = np.unique(iris_data[:, 2], return_counts=True)\n",
        "v[np.argmax(c)]"
      ],
      "metadata": {
        "trusted": true,
        "id": "9yyPlcVBbr3F"
      },
      "execution_count": null,
      "outputs": []
    },
    {
      "cell_type": "markdown",
      "source": [
        "<a id='46'></a>\n",
        "### *Exercise 46*. How to find the position of the first occurrence of a value greater than a given value?\n",
        "<a href=\"#top\" class=\"btn btn-primary btn-sm\" role=\"button\" aria-pressed=\"true\" style=\"color:white\" data-toggle=\"popover\">Go to TOC</a>"
      ],
      "metadata": {
        "id": "YIo2FyGSbr3F"
      }
    },
    {
      "cell_type": "code",
      "source": [
        "# Question: Find the position of the first occurrence of a value greater than 1.0 in\n",
        "# petalwidth 4th column of iris dataset.\n",
        "iris_data = np.genfromtxt('../input/iris/Iris.csv', delimiter=',',\n",
        "                          dtype=object, usecols=[4], skip_header=1)\n",
        "\n",
        "np.argwhere(iris_data[:].astype(float) > 1.0)[0]"
      ],
      "metadata": {
        "trusted": true,
        "id": "KczhFPNGbr3F"
      },
      "execution_count": null,
      "outputs": []
    },
    {
      "cell_type": "markdown",
      "source": [
        "<a id='47'></a>\n",
        "### *Exercise 47*. How to replace all values greater than a given value to a given cutoff?\n",
        "<a href=\"#top\" class=\"btn btn-primary btn-sm\" role=\"button\" aria-pressed=\"true\" style=\"color:white\" data-toggle=\"popover\">Go to TOC</a>"
      ],
      "metadata": {
        "id": "Dl7mY26rbr3F"
      }
    },
    {
      "cell_type": "code",
      "source": [
        "# Question: From the array a, replace all values greater than 30 to 30 and less than 10 to 10.\n",
        "\n",
        "# Solution\n",
        "\n",
        "np.set_printoptions(precision=2)\n",
        "np.random.seed(100)\n",
        "a = np.random.uniform(1,50, 20)\n",
        "\n",
        "a[a<10]=10\n",
        "a[a>30]=30\n",
        "np.set_printoptions(threshold=20)\n",
        "a"
      ],
      "metadata": {
        "trusted": true,
        "id": "NBPWnzoTbr3F"
      },
      "execution_count": null,
      "outputs": []
    },
    {
      "cell_type": "markdown",
      "source": [
        "<a id='48'></a>\n",
        "### *Exercise 48*. How to get the positions of top n values from a numpy array?\n",
        "<a href=\"#top\" class=\"btn btn-primary btn-sm\" role=\"button\" aria-pressed=\"true\" style=\"color:white\" data-toggle=\"popover\">Go to TOC</a>"
      ],
      "metadata": {
        "id": "ZKNo-r-zbr3F"
      }
    },
    {
      "cell_type": "code",
      "source": [
        "# Question: Get the positions of top 5 maximum values in a given array a.\n",
        "np.random.seed(100)\n",
        "a = np.random.uniform(1,50, 20)\n",
        "a\n",
        "sort = a.argsort()\n",
        "print('Positions')\n",
        "sort[-5:][::-1]\n",
        "print('Values')\n",
        "a[sort][-5:][::-1]"
      ],
      "metadata": {
        "trusted": true,
        "id": "COS_Y2wdbr3G"
      },
      "execution_count": null,
      "outputs": []
    },
    {
      "cell_type": "markdown",
      "source": [
        "<a id='49'></a>\n",
        "### *Exercise 49*. How to compute the row wise counts of all possible values in an array?\n",
        "<a href=\"#top\" class=\"btn btn-primary btn-sm\" role=\"button\" aria-pressed=\"true\" style=\"color:white\" data-toggle=\"popover\">Go to TOC</a>"
      ],
      "metadata": {
        "id": "LggjuMgsbr3G"
      }
    },
    {
      "cell_type": "code",
      "source": [
        "# Question: Compute the counts of unique values row-wise.\n",
        "\n",
        "# Solution\n",
        "def counts_of_all_values_rowwise(arr2d):\n",
        "    # Unique values and its counts row wise\n",
        "    num_counts_array = [np.unique(row, return_counts=True) for row in arr2d]\n",
        "\n",
        "    # Counts of all values row wise\n",
        "    return([[int(b[a==i]) if i in a else 0 for i in np.unique(arr2d)] for a, b in num_counts_array])\n",
        "\n",
        "np.random.seed(100)\n",
        "np.set_printoptions(threshold=10)\n",
        "arr = np.random.randint(1,11,size=(6, 10))\n",
        "arr\n",
        "print(np.arange(1,11))\n",
        "counts_of_all_values_rowwise(arr)"
      ],
      "metadata": {
        "trusted": true,
        "id": "pWd-nTkybr3G"
      },
      "execution_count": null,
      "outputs": []
    },
    {
      "cell_type": "markdown",
      "source": [
        "<a id='50'></a>\n",
        "### *Exercise 50*. How to convert an array of arrays into a flat 1d array?\n",
        "<a href=\"#top\" class=\"btn btn-primary btn-sm\" role=\"button\" aria-pressed=\"true\" style=\"color:white\" data-toggle=\"popover\">Go to TOC</a>"
      ],
      "metadata": {
        "id": "v_yOkIObbr3G"
      }
    },
    {
      "cell_type": "code",
      "source": [
        "# Question: Convert array_of_arrays into a flat linear 1d array.\n",
        "arr1 = np.arange(3)\n",
        "arr2 = np.arange(3,7)\n",
        "arr3 = np.arange(7,10)\n",
        "\n",
        "arr_2d = np.concatenate([arr1, arr2, arr3])\n",
        "print(arr_2d)"
      ],
      "metadata": {
        "trusted": true,
        "id": "9gBdOXxMbr3G"
      },
      "execution_count": null,
      "outputs": []
    },
    {
      "cell_type": "markdown",
      "source": [
        "## I hope you have learned something in this kernel.\n",
        "## <font color='red'> If you like this kernel, Don't forget to upvote. </font>"
      ],
      "metadata": {
        "id": "heSPMST_br3G"
      }
    },
    {
      "cell_type": "markdown",
      "source": [
        "## Happy Learning"
      ],
      "metadata": {
        "id": "f2sAzE1_br3G"
      }
    }
  ]
}