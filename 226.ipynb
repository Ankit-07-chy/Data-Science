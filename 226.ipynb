{
 "cells": [
  {
   "cell_type": "markdown",
   "id": "fe8ef804",
   "metadata": {},
   "source": [
    "`Regression analysis`\n"
   ]
  },
  {
   "cell_type": "markdown",
   "id": "e7c01bff",
   "metadata": {},
   "source": [
    "Day-1 <br>"
   ]
  }
 ],
 "metadata": {
  "kernelspec": {
   "display_name": "Python 3",
   "language": "python",
   "name": "python3"
  },
  "language_info": {
   "name": "python",
   "version": "3.13.3"
  }
 },
 "nbformat": 4,
 "nbformat_minor": 5
}
